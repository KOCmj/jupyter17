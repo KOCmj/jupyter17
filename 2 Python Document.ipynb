{
 "cells": [
  {
   "cell_type": "markdown",
   "metadata": {},
   "source": [
    "# Functions, Scoping, Data Collections 1 & List Comprehensions"
   ]
  },
  {
   "cell_type": "markdown",
   "metadata": {},
   "source": [
    "## Tasks Today:\n",
    "\n",
    "<i>Monday Additions (or, and ... if statements)</i>\n",
    "\n",
    "1) String Manipulation <br>\n",
    " &nbsp;&nbsp;&nbsp;&nbsp; a) strip() <br>\n",
    " &nbsp;&nbsp;&nbsp;&nbsp; b) title() <br>\n",
    "2) Working With Lists <br>\n",
    " &nbsp;&nbsp;&nbsp;&nbsp; a) min() <br>\n",
    " &nbsp;&nbsp;&nbsp;&nbsp; b) max() <br>\n",
    " &nbsp;&nbsp;&nbsp;&nbsp; c) sum() <br>\n",
    " &nbsp;&nbsp;&nbsp;&nbsp; d) sort() <br>\n",
    " &nbsp;&nbsp;&nbsp;&nbsp; e) Copying a List <br>\n",
    " &nbsp;&nbsp;&nbsp;&nbsp; f) 'in' keyword <br>\n",
    " &nbsp;&nbsp;&nbsp;&nbsp; g) 'not in' keyword <br>\n",
    " &nbsp;&nbsp;&nbsp;&nbsp; i) Checking an Empty List <br>\n",
    " &nbsp;&nbsp;&nbsp;&nbsp; j) Removing Instances with a Loop <br>\n",
    "3) List Comprehensions <br>\n",
    "4) Tuples <br>\n",
    " &nbsp;&nbsp;&nbsp;&nbsp; a) sorted() <br>\n",
    "5) Functions <br>\n",
    " &nbsp;&nbsp;&nbsp;&nbsp; a) User-Defined vs. Built-In Functions <br>\n",
    " &nbsp;&nbsp;&nbsp;&nbsp; b) Accepting Parameters <br>\n",
    " &nbsp;&nbsp;&nbsp;&nbsp; c) Default Parameters <br>\n",
    " &nbsp;&nbsp;&nbsp;&nbsp; d) Making an Argument Optional <br>\n",
    " &nbsp;&nbsp;&nbsp;&nbsp; e) Keyword Arguments <br>\n",
    " &nbsp;&nbsp;&nbsp;&nbsp; f) Returning Values <br>\n",
    " &nbsp;&nbsp;&nbsp;&nbsp; g) *args <br>\n",
    " &nbsp;&nbsp;&nbsp;&nbsp; h) Docstring <br>\n",
    " &nbsp;&nbsp;&nbsp;&nbsp; i) Using a User Function in a Loop <br>\n",
    "6) Scope"
   ]
  },
  {
   "cell_type": "markdown",
   "metadata": {},
   "source": [
    "### String Manipulation"
   ]
  },
  {
   "cell_type": "markdown",
   "metadata": {},
   "source": [
    "##### .lstrip()"
   ]
  },
  {
   "cell_type": "code",
   "execution_count": 3,
   "metadata": {},
   "outputs": [
    {
     "name": "stdout",
     "output_type": "stream",
     "text": [
      "Muffy KOC\n"
     ]
    }
   ],
   "source": [
    "# string.lstrip()\n",
    "name= \"             lMuffy KOC\"\n",
    "# print(name.lstrip(\" \" \"l\"))\n",
    "\n",
    "# Another option\n",
    "s_name=name.lstrip(\" \" \"l\")\n",
    "print(s_name)\n"
   ]
  },
  {
   "cell_type": "markdown",
   "metadata": {},
   "source": [
    "##### .rstrip()"
   ]
  },
  {
   "cell_type": "code",
   "execution_count": 4,
   "metadata": {},
   "outputs": [
    {
     "name": "stdout",
     "output_type": "stream",
     "text": [
      "Muffy KOC\n"
     ]
    }
   ],
   "source": [
    "# string.rstrip()\n",
    "name=\"Muffy KOCl           \"\n",
    "print(name.rstrip(\" \" \"l\"))"
   ]
  },
  {
   "cell_type": "markdown",
   "metadata": {},
   "source": [
    "##### .strip()"
   ]
  },
  {
   "cell_type": "code",
   "execution_count": 6,
   "metadata": {},
   "outputs": [
    {
     "name": "stdout",
     "output_type": "stream",
     "text": [
      "Muffy KOC\n"
     ]
    }
   ],
   "source": [
    "# string.strip()\n",
    "name= \"       Muffy KOC                \"\n",
    "print(name.strip())"
   ]
  },
  {
   "cell_type": "markdown",
   "metadata": {},
   "source": [
    "##### .title()"
   ]
  },
  {
   "cell_type": "code",
   "execution_count": 7,
   "metadata": {},
   "outputs": [
    {
     "name": "stdout",
     "output_type": "stream",
     "text": [
      "Donald Trump\n"
     ]
    }
   ],
   "source": [
    "# string.title()\n",
    "president=\"donald trump\"\n",
    "print(president.title())\n",
    "\n",
    "# .upper for all uppercase\n",
    "# .lower for all lowercase\n"
   ]
  },
  {
   "cell_type": "markdown",
   "metadata": {},
   "source": [
    "### String Exercise <br>\n",
    "<p>Strip all white space and capitalize every name in the list given</p>"
   ]
  },
  {
   "cell_type": "code",
   "execution_count": 7,
   "metadata": {},
   "outputs": [
    {
     "name": "stdout",
     "output_type": "stream",
     "text": [
      "CONNOR\n",
      "MAX\n",
      "EVAN\n",
      "JORDAN\n"
     ]
    }
   ],
   "source": [
    "names = ['    coNNor', 'max', ' EVan ', 'JORDAN']\n",
    "# HINT: You will need to use a for loop for iteration\n",
    "for i in range(len(names)):\n",
    "    if(names[i], str):\n",
    "         print(names[i].strip().upper())\n",
    "#     elif print(names[i].upper()):\n",
    "#          print(names[i].strip().upper())\n",
    "\n",
    "\n",
    "# for j in range(len(names[:-1])):\n",
    "#     print(names[j].upper() and names[j].strip())\n",
    "    \n",
    "#     names+=1\n",
    "# if name in range(len(names)):        \n",
    "#     print(names.upper())\n",
    "\n"
   ]
  },
  {
   "cell_type": "code",
   "execution_count": null,
   "metadata": {},
   "outputs": [],
   "source": []
  },
  {
   "cell_type": "markdown",
   "metadata": {},
   "source": [
    "### Working With Lists"
   ]
  },
  {
   "cell_type": "markdown",
   "metadata": {},
   "source": [
    "##### min()"
   ]
  },
  {
   "cell_type": "code",
   "execution_count": 8,
   "metadata": {},
   "outputs": [
    {
     "name": "stdout",
     "output_type": "stream",
     "text": [
      "17\n"
     ]
    }
   ],
   "source": [
    "# min(list)\n",
    "numbers=[17,99,222,46]\n",
    "\n",
    "print(min(numbers))"
   ]
  },
  {
   "cell_type": "markdown",
   "metadata": {},
   "source": [
    "##### max()"
   ]
  },
  {
   "cell_type": "code",
   "execution_count": 9,
   "metadata": {},
   "outputs": [
    {
     "name": "stdout",
     "output_type": "stream",
     "text": [
      "222\n"
     ]
    }
   ],
   "source": [
    "# max(list)\n",
    "print(max(numbers))\n"
   ]
  },
  {
   "cell_type": "markdown",
   "metadata": {},
   "source": [
    "##### sum()"
   ]
  },
  {
   "cell_type": "code",
   "execution_count": 10,
   "metadata": {},
   "outputs": [
    {
     "name": "stdout",
     "output_type": "stream",
     "text": [
      "384\n"
     ]
    }
   ],
   "source": [
    "# sum(list)\n",
    "\n",
    "\n",
    "print(sum(numbers))"
   ]
  },
  {
   "cell_type": "markdown",
   "metadata": {},
   "source": [
    "##### sorted()"
   ]
  },
  {
   "cell_type": "code",
   "execution_count": 11,
   "metadata": {},
   "outputs": [
    {
     "name": "stdout",
     "output_type": "stream",
     "text": [
      "[17, 46, 99, 222]\n"
     ]
    }
   ],
   "source": [
    "# sorted(list)\n",
    "numbers=[17,99,222,46]\n",
    "\n",
    "sorted_numbers= sorted(numbers)\n",
    "print(sorted_numbers)\n"
   ]
  },
  {
   "cell_type": "markdown",
   "metadata": {},
   "source": [
    "##### .sort() <br>\n",
    "<p>Difference between sort and sorted, is that sorted doesn't change original list it returns a copy, while .sort changes the original list</p>"
   ]
  },
  {
   "cell_type": "code",
   "execution_count": 12,
   "metadata": {},
   "outputs": [
    {
     "name": "stdout",
     "output_type": "stream",
     "text": [
      "Before sort: [17, 99, 222, 46]\n",
      "None\n",
      "[17, 46, 99, 222]\n"
     ]
    }
   ],
   "source": [
    "# list.sort()\n",
    "print(f'Before sort: {numbers}')\n",
    "print(numbers.sort())\n",
    "print(numbers)\n",
    "\n",
    "\n",
    "# use sorted when you don't want to alter original list, use .sort() when you want to alter original list"
   ]
  },
  {
   "cell_type": "markdown",
   "metadata": {},
   "source": [
    "##### Copying a List"
   ]
  },
  {
   "cell_type": "code",
   "execution_count": 13,
   "metadata": {},
   "outputs": [
    {
     "name": "stdout",
     "output_type": "stream",
     "text": [
      "[17, 46, 99, 222]\n"
     ]
    }
   ],
   "source": [
    "# [:] copies a list, doesn't alter original\n",
    "list_1= numbers[:]\n",
    "print(list_1)"
   ]
  },
  {
   "cell_type": "markdown",
   "metadata": {},
   "source": [
    "##### 'in' keyword"
   ]
  },
  {
   "cell_type": "code",
   "execution_count": 19,
   "metadata": {},
   "outputs": [
    {
     "name": "stdout",
     "output_type": "stream",
     "text": [
      "Theres a W\n",
      "Yellow\n",
      "Yellow\n",
      "Yellow\n",
      "Theres a W\n"
     ]
    }
   ],
   "source": [
    "teachers= ['Muffy', 'Ray', 'Rick', 'Berry', 'Morty']\n",
    "\n",
    "# if 'Muffy' in teachers:\n",
    "#     print(\"The KOC himself\")\n",
    "# else:\n",
    "#     print(\"Great folks\")\n",
    "\n",
    "for name in teachers:\n",
    "    if 'M' in name:\n",
    "        print(\"Theres a W\")\n",
    "    else:\n",
    "        print(\"Yellow\")"
   ]
  },
  {
   "cell_type": "markdown",
   "metadata": {},
   "source": [
    "##### 'not in' keyword"
   ]
  },
  {
   "cell_type": "code",
   "execution_count": 17,
   "metadata": {},
   "outputs": [
    {
     "name": "stdout",
     "output_type": "stream",
     "text": [
      "Don't worry fam.\n"
     ]
    }
   ],
   "source": [
    "if 'Moro' not in teachers:\n",
    "    print(\"Don't worry fam.\")"
   ]
  },
  {
   "cell_type": "markdown",
   "metadata": {},
   "source": [
    "##### Checking an Empty List"
   ]
  },
  {
   "cell_type": "code",
   "execution_count": 20,
   "metadata": {},
   "outputs": [
    {
     "name": "stdout",
     "output_type": "stream",
     "text": [
      "Theres nothing there.\n"
     ]
    }
   ],
   "source": [
    "# if l_1: or if l_1 = []\n",
    "\n",
    "list_2=[]\n",
    "if list_2==[]:\n",
    "    print(\"Theres nothing there.\")"
   ]
  },
  {
   "cell_type": "markdown",
   "metadata": {},
   "source": [
    "##### Removing Instances with a Loop"
   ]
  },
  {
   "cell_type": "code",
   "execution_count": 41,
   "metadata": {},
   "outputs": [
    {
     "name": "stdout",
     "output_type": "stream",
     "text": [
      "['Muffy', 'Bill', 'Kj', 'Operai', 'muffy']\n"
     ]
    }
   ],
   "source": [
    "# while, remove\n",
    "# while loop is better\n",
    "names=['Muffy', 'Muffy', 'Bill', 'Kj', 'Operai', 'muffy']\n",
    "while 'Muffy' in names:\n",
    "    names.remove('Muffy')\n",
    "print(names)\n",
    "\n",
    "# for name in names:\n",
    "#     if name == 'Muffy':\n",
    "#         names.remove('Muffy')\n",
    "# print(names)\n",
    "    "
   ]
  },
  {
   "cell_type": "markdown",
   "metadata": {},
   "source": [
    "### List Exercise <br>\n",
    "<p>Remove all duplicates<br><b>Extra: Create a program that will remove any duplicates from a given list</b></p>"
   ]
  },
  {
   "cell_type": "code",
   "execution_count": 18,
   "metadata": {},
   "outputs": [
    {
     "name": "stdout",
     "output_type": "stream",
     "text": [
      "['connor', 'connor', 'bob', 'connor', 'evan', 'max', 'evan', 2, 2, 2, 3, 3, 4, 'bob', 'kevin']\n",
      "[['connor', 'bob', 'evan', 2, 3]]\n"
     ]
    }
   ],
   "source": [
    "names = ['connor', 'connor', 'bob', 'connor', 'evan', 'max', 'evan', 2, 2, 2, 3, 3, 4, 'bob', 'kevin']\n",
    "# Hint 1: You will need an append\n",
    "# Hint 2: Using an empty list will make life easier\n",
    "n=[]\n",
    "\n",
    "while ['connor', 'bob', 'evan', 2, 3] in names:\n",
    "    names.remove('connor', 'bob', 'evan', 2, 3)\n",
    "print(names)\n",
    "if n==[]:\n",
    "    n.append(['connor', 'bob', 'evan', 2, 3])\n",
    "print(n)\n",
    "    \n",
    "# while 'connor' in names:\n",
    "#     names.remove('connor')\n",
    "# print(names)\n",
    "# if n==[]:\n",
    "#     n.append('connor')\n",
    "# print(n)\n",
    "\n",
    "# while 'bob' in names:\n",
    "#     names.remove('bob')\n",
    "# if n==['connor']:\n",
    "#     n.append('bob')\n",
    "# print(n)\n",
    "\n",
    "# while 'evan' in names:\n",
    "#     names.remove('evan')\n",
    "# if n==['connor','bob']:\n",
    "#     n.append('evan')\n",
    "# print(n)\n",
    "\n",
    "\n",
    "\n",
    "\n",
    "\n"
   ]
  },
  {
   "cell_type": "markdown",
   "metadata": {},
   "source": [
    "### List Comprehensions <br>\n",
    "<p>Creating a quickly generated list to work with<br>*result*  = [*transform*    *iteration*         *filter*     ]</p>"
   ]
  },
  {
   "cell_type": "code",
   "execution_count": null,
   "metadata": {},
   "outputs": [],
   "source": [
    "In a list comprehension we have a few pieces:\n",
    "1. The first is the counter/ variable - IN this the variable is x\n",
    "2. then we have a transform for the variable\n",
    "3. The finale part of a list comp is called the condition\n",
    "\n",
    "```python\n",
    "    [transform, variable, condition]\n",
    "```"
   ]
  },
  {
   "cell_type": "code",
   "execution_count": 27,
   "metadata": {},
   "outputs": [
    {
     "name": "stdout",
     "output_type": "stream",
     "text": [
      "[0, 4, 16, 36, 64, 100, 144, 196, 256, 324, 400, 484, 576, 676, 784, 900, 1024, 1156, 1296, 1444, 1600, 1764, 1936, 2116, 2304, 2500, 2704, 2916, 3136, 3364, 3600, 3844, 4096, 4356, 4624, 4900, 5184, 5476, 5776, 6084, 6400, 6724, 7056, 7396, 7744, 8100, 8464, 8836, 9216, 9604]\n",
      "\n",
      "\n",
      "[0, 4, 16, 36, 64, 100, 144, 196, 256, 324, 400, 484, 576, 676, 784, 900, 1024, 1156, 1296, 1444, 1600, 1764, 1936, 2116, 2304, 2500, 2704, 2916, 3136, 3364, 3600, 3844, 4096, 4356, 4624, 4900, 5184, 5476, 5776, 6084, 6400, 6724, 7056, 7396, 7744, 8100, 8464, 8836, 9216, 9604]\n"
     ]
    }
   ],
   "source": [
    "# number comprehension\n",
    "\n",
    "# With a regular for loop\n",
    "\n",
    "nums=[]\n",
    "\n",
    "for i in range(100):\n",
    "#down below is just even numbers\n",
    "    if i % 2==0:  \n",
    "# if you want to square\n",
    "        nums.append(i**2)\n",
    "#         nums.append(i)\n",
    "print(nums)\n",
    "\n",
    "# [transform, variable, condition]\n",
    "\n",
    "print(\"\\n\")\n",
    "nums_c=[i**2 for i in range(100) if i % 2 == 0]\n",
    "print(nums_c)\n",
    "\n",
    "\n",
    "\n"
   ]
  },
  {
   "cell_type": "markdown",
   "metadata": {},
   "source": [
    "There are a few benefits to using List comprehensions. The most obvious would be that we now have shorter code to work with instead of using 3+ lines of code in the for loop variant.\n",
    "\n",
    "Another is an added benefit to memory usage. Since the list's memory is allocated first before adding elements to it, we don't have to resize the list once we add elements to it.\n",
    "\n",
    "Lastly, list comprehensions are considered the \"pythonic\" way to write code by the PEP8 standards (Python Style Guide)"
   ]
  },
  {
   "cell_type": "code",
   "execution_count": 32,
   "metadata": {},
   "outputs": [
    {
     "name": "stdout",
     "output_type": "stream",
     "text": [
      "[0, 1, 4, 9, 16, 25, 36, 49, 64, 81]\n",
      "\n",
      "\n",
      "[0, 1, 4, 9, 16, 25, 36, 49, 64, 81]\n",
      "\n",
      "\n",
      "[0, 1, 4, 9, 16, 25, 36, 49, 64, 81]\n"
     ]
    }
   ],
   "source": [
    "# square number comprehension\n",
    "\n",
    "squares=[x**2 for x in range(10)]\n",
    "print(squares)\n",
    "print(\"\\n\")\n",
    "# or\n",
    "print([x**2 for x in range(10)])\n",
    "\n",
    "print(\"\\n\")\n",
    "# reg way\n",
    "squares_reg=[]\n",
    "for x in range(10):\n",
    "    squares_reg.append(x**2)\n",
    "print(squares_reg)"
   ]
  },
  {
   "cell_type": "code",
   "execution_count": 35,
   "metadata": {},
   "outputs": [
    {
     "name": "stdout",
     "output_type": "stream",
     "text": [
      "['M', 'U', 'F', 'F', 'Y']\n",
      "['M', 'U', 'F', 'F', 'Y']\n"
     ]
    }
   ],
   "source": [
    "# string comprehension\n",
    "\n",
    "\n",
    "names=['Muffy', 'Ube', 'Feral', 'Frank', 'Ybella']\n",
    "\n",
    "first_char=[name[0] for name in names]\n",
    "print(first_char)\n",
    "\n",
    "# old way\n",
    "first_charac=[]\n",
    "\n",
    "for name in names:\n",
    "    first_charac.append(name[0])\n",
    "print(first_charac)"
   ]
  },
  {
   "cell_type": "code",
   "execution_count": 38,
   "metadata": {},
   "outputs": [
    {
     "name": "stdout",
     "output_type": "stream",
     "text": [
      "['Muffy']\n",
      "['Muffy']\n"
     ]
    }
   ],
   "source": [
    "# if always after for\n",
    "\n",
    "M_names=[first for first in names if first[0] == 'M']\n",
    "print(M_names)\n",
    "\n",
    "# old way\n",
    "m_names_reg=[]\n",
    "\n",
    "for first in names:\n",
    "    if first[0]=='M':\n",
    "        m_names_reg.append(first)\n",
    "        \n",
    "        \n",
    "print(m_names_reg)\n",
    "    "
   ]
  },
  {
   "cell_type": "code",
   "execution_count": null,
   "metadata": {},
   "outputs": [],
   "source": []
  },
  {
   "cell_type": "markdown",
   "metadata": {},
   "source": [
    "### Tuples <br>\n",
    "<p><b>Defined as an immutable list</b></p><br>Seperated by commas using parenthesis"
   ]
  },
  {
   "cell_type": "code",
   "execution_count": 49,
   "metadata": {},
   "outputs": [
    {
     "name": "stdout",
     "output_type": "stream",
     "text": [
      "1\n",
      "3\n",
      "1\n",
      "2\n",
      "3\n",
      "1\n",
      "2\n",
      "3\n"
     ]
    }
   ],
   "source": [
    "tup_1 = 1 , 2 , 3     #First way of creating a tuple\n",
    "tup_2 = (1 , 2 , 3)  #Second way of creating a tuple\n",
    "\n",
    "# print(type(tup_1))\n",
    "# print(type(tup_2))\n",
    "\n",
    "# can pull out individual data for ex;\n",
    "\n",
    "print(tup_1[0])\n",
    "# also\n",
    "\n",
    "print(len(tup_1))\n",
    "\n",
    "#Can loop over tuples\n",
    "\n",
    "for number in tup_1:\n",
    "    print(number)\n",
    "    \n",
    "# Using range n length to loop over a tuple\n",
    "\n",
    "for number in range(len(tup_1)):\n",
    "    print(tup_1[number])"
   ]
  },
  {
   "cell_type": "markdown",
   "metadata": {},
   "source": [
    "##### sorted()"
   ]
  },
  {
   "cell_type": "code",
   "execution_count": 53,
   "metadata": {},
   "outputs": [
    {
     "name": "stdout",
     "output_type": "stream",
     "text": [
      "[1, 2, 17, 90, 222]\n",
      "(1, 2, 3, 17, 87, 90, 99, 111, 222, 444)\n"
     ]
    }
   ],
   "source": [
    "tup_3 = (17, 90, 2, 1, 222)\n",
    "sorted_tup = sorted(tup_3)\n",
    "\n",
    "print(sorted_tup)\n",
    "\n",
    "r_list= [111, 99, 444, 87, 3]\n",
    "# combine_list = sorted_tup + r_list\n",
    "combine_list = sorted(sorted_tup + r_list)\n",
    "\n",
    "new_tup = tuple(combine_list)\n",
    "\n",
    "print(new_tup)"
   ]
  },
  {
   "cell_type": "markdown",
   "metadata": {},
   "source": [
    "##### Adding values to a Tuple"
   ]
  },
  {
   "cell_type": "code",
   "execution_count": 55,
   "metadata": {},
   "outputs": [
    {
     "name": "stdout",
     "output_type": "stream",
     "text": [
      "(1, 2, 3)\n",
      "(1, 2, 3, 5)\n"
     ]
    }
   ],
   "source": [
    "print(tup_1)\n",
    "\n",
    "tup_1 = tup_1 + (5,)\n",
    "print(tup_1)"
   ]
  },
  {
   "cell_type": "markdown",
   "metadata": {},
   "source": [
    "## Functions"
   ]
  },
  {
   "cell_type": "markdown",
   "metadata": {},
   "source": [
    "##### User-Defined vs. Built-In Functions"
   ]
  },
  {
   "cell_type": "code",
   "execution_count": null,
   "metadata": {},
   "outputs": [],
   "source": [
    "#User defined\n",
    "def sayHello():\n",
    "     return 'Hello World, it is I the KOC!'\n",
    "\n",
    "sayHello()"
   ]
  },
  {
   "cell_type": "markdown",
   "metadata": {},
   "source": [
    "##### Accepting Parameters"
   ]
  },
  {
   "cell_type": "code",
   "execution_count": 9,
   "metadata": {},
   "outputs": [
    {
     "name": "stdout",
     "output_type": "stream",
     "text": [
      "Hello, Muffy KOC\n",
      "Hello, Moro Itadori\n"
     ]
    }
   ],
   "source": [
    "# Arguments or Parameters\n",
    "# Order matters k,v\n",
    "# variable can be of any type of object\n",
    "\n",
    "def name(first_name, last_name):\n",
    "    return f'Hello, {first_name} {last_name}'\n",
    "\n",
    "a_name = 'Moro'\n",
    "# Could do this too\n",
    "one_name = input(\"What is your name? \")\n",
    "# Call it like this\n",
    "name('Mojo', 'Sensei')\n",
    "    \n",
    "print(name('Muffy' , 'KOC'))\n",
    "\n",
    "print(name(a_name, 'Itadori'))\n",
    "\n",
    "print(name(one_name, ' '))"
   ]
  },
  {
   "cell_type": "markdown",
   "metadata": {},
   "source": [
    "##### Default Parameters"
   ]
  },
  {
   "cell_type": "code",
   "execution_count": 10,
   "metadata": {},
   "outputs": [
    {
     "data": {
      "text/plain": [
       "'The name you should know as it for I THE KOC... Muffy KOC'"
      ]
     },
     "execution_count": 10,
     "metadata": {},
     "output_type": "execute_result"
    }
   ],
   "source": [
    "# Needs to be declared after non-default parameters\n",
    "\n",
    "def Agent_name(first_name, last_name= 'KOC'):\n",
    "    return f'The name you should know as it for I THE {last_name}... {first_name} {last_name}'\n",
    "\n",
    "Agent_name('Muffy')"
   ]
  },
  {
   "cell_type": "markdown",
   "metadata": {},
   "source": [
    "##### Making an Argument Optional"
   ]
  },
  {
   "cell_type": "code",
   "execution_count": 11,
   "metadata": {},
   "outputs": [
    {
     "data": {
      "text/plain": [
       "'Hello, Muffy THE KOC'"
      ]
     },
     "execution_count": 11,
     "metadata": {},
     "output_type": "execute_result"
    }
   ],
   "source": [
    "def Great_name(first_name, middle_name=' ', last_name='KOC' ):\n",
    "    return f'Hello, {first_name} {middle_name} {last_name}'\n",
    "\n",
    "Great_name('Muffy', 'THE')\n"
   ]
  },
  {
   "cell_type": "markdown",
   "metadata": {},
   "source": [
    "##### Keyword Arguments"
   ]
  },
  {
   "cell_type": "code",
   "execution_count": 13,
   "metadata": {},
   "outputs": [
    {
     "data": {
      "text/plain": [
       "\"The hero's name is Muffy and possesses the power of Fire Jujutsu\""
      ]
     },
     "execution_count": 13,
     "metadata": {},
     "output_type": "execute_result"
    }
   ],
   "source": [
    "def super_Hero(name, power = 'fire domain expansion'):\n",
    "    return f\"The hero's name is {name} and possesses the power of {power}\"\n",
    "\n",
    "# DON'T do this other way is better.\n",
    "super_Hero(name = 'Muffy', power = 'Fire Jujutsu')"
   ]
  },
  {
   "cell_type": "markdown",
   "metadata": {},
   "source": [
    "# Creating a start, stop, step function"
   ]
  },
  {
   "cell_type": "code",
   "execution_count": 23,
   "metadata": {},
   "outputs": [
    {
     "name": "stdout",
     "output_type": "stream",
     "text": [
      "7\n",
      "9\n",
      "11\n",
      "13\n",
      "15\n",
      "17\n",
      "19\n"
     ]
    }
   ],
   "source": [
    "def myRange(stop, start=0, step=1):\n",
    "    for x in range(start,stop,step):\n",
    "        print(x)\n",
    "        \n",
    "myRange(21, 7, 2)\n"
   ]
  },
  {
   "cell_type": "markdown",
   "metadata": {},
   "source": [
    "##### Returning Values"
   ]
  },
  {
   "cell_type": "code",
   "execution_count": 24,
   "metadata": {},
   "outputs": [
    {
     "data": {
      "text/plain": [
       "17"
      ]
     },
     "execution_count": 24,
     "metadata": {},
     "output_type": "execute_result"
    }
   ],
   "source": [
    "def addNums(num1, num2):\n",
    "    return num1 + num2\n",
    "\n",
    "addNums(2, 15)"
   ]
  },
  {
   "cell_type": "markdown",
   "metadata": {},
   "source": [
    "##### *args"
   ]
  },
  {
   "cell_type": "code",
   "execution_count": 28,
   "metadata": {},
   "outputs": [
    {
     "name": "stdout",
     "output_type": "stream",
     "text": [
      "17\n",
      "('Dragonite Muffy', 'Fire KOC Jujutsu', 222, 555)\n",
      "{'testing': 'Muffy KOC'}\n",
      "Dragonite Muffy\n",
      "Fire KOC Jujutsu\n",
      "222\n",
      "555\n",
      "testing\n"
     ]
    }
   ],
   "source": [
    "# args means arguments, and takes any number of arguments as parameters\n",
    "# Must be last if multiple parameters are present\n",
    "# Prints out a tuple\n",
    "\n",
    "def argu(num1, *args, **kwargs):\n",
    "    print(num1)\n",
    "    print(args)\n",
    "    print(kwargs)\n",
    "#     Printing w/o tuple\n",
    "    for arg in args:\n",
    "        print(arg)\n",
    "        \n",
    "    for kwarg in kwargs:\n",
    "        print(kwarg)\n",
    "    \n",
    "# Prints tuple, below this    \n",
    "argu(17, 'Dragonite Muffy', 'Fire KOC Jujutsu', 222, 555, testing= \"Muffy KOC\")\n"
   ]
  },
  {
   "cell_type": "markdown",
   "metadata": {},
   "source": [
    "##### Docstring"
   ]
  },
  {
   "cell_type": "code",
   "execution_count": 30,
   "metadata": {},
   "outputs": [
    {
     "name": "stdout",
     "output_type": "stream",
     "text": [
      "Muffy KOC\n",
      "Moro Itadori\n",
      "Maruto Uchiha\n",
      "Help on function greatNames in module __main__:\n",
      "\n",
      "greatNames(list_1)\n",
      "    Function requires a list to be passed as a parameter\n",
      "    and will print the content of the list. Expecting a list of\n",
      "    names(strings) to be passed.\n",
      "\n"
     ]
    }
   ],
   "source": [
    "# Just like help() function\n",
    "# Fun fact; Can't comment out things in docstring\n",
    "\n",
    "def greatNames(list_1):\n",
    "    '''\n",
    "        Function requires a list to be passed as a parameter\n",
    "        and will print the content of the list. Expecting a list of\n",
    "        names(strings) to be passed.\n",
    "    '''\n",
    "    \n",
    "    for name in list_1:\n",
    "        print(name)\n",
    "        \n",
    "greatNames(['Muffy KOC', 'Moro Itadori', 'Maruto Uchiha'])\n",
    "help(greatNames)"
   ]
  },
  {
   "cell_type": "markdown",
   "metadata": {},
   "source": [
    "##### Using a User Function in a Loop"
   ]
  },
  {
   "cell_type": "code",
   "execution_count": 31,
   "metadata": {},
   "outputs": [
    {
     "name": "stdout",
     "output_type": "stream",
     "text": [
      "Are you ready to quit? nope\n",
      "What's on your mind? greatness\n",
      "greatness\n",
      "Ready yet? maybe\n",
      "What's on your mind? coding\n",
      "coding\n",
      "Ready yet? quit\n"
     ]
    }
   ],
   "source": [
    "def Uf(answer):\n",
    "    print(answer)\n",
    "    \n",
    "response = input('Are you ready to quit? ')\n",
    "\n",
    "while True:\n",
    "    ask = input(\"What's on your mind? \")\n",
    "    Uf(ask)\n",
    "    \n",
    "    response = input('Ready yet? ')\n",
    "    if response.lower() == 'quit':\n",
    "        break"
   ]
  },
  {
   "cell_type": "markdown",
   "metadata": {},
   "source": [
    "## Function Exercise <br>\n",
    "<p>Write a function that loops through a list of first_names and a list of last_names, combines the two and return a list of full_names</p>"
   ]
  },
  {
   "cell_type": "code",
   "execution_count": 378,
   "metadata": {},
   "outputs": [
    {
     "data": {
      "text/plain": [
       "['John Smith', 'Evan Smith', 'Jordan Williams', 'Max Bell']"
      ]
     },
     "execution_count": 378,
     "metadata": {},
     "output_type": "execute_result"
    }
   ],
   "source": [
    "first_name = ['John', 'Evan', 'Jordan', 'Max']\n",
    "last_name = ['Smith', 'Smith', 'Williams', 'Bell']\n",
    "\n",
    "# Output: ['John Smith', 'Evan Smith', 'Jordan Williams', 'Max Bell']\n",
    "# Video Way\n",
    "def full(list_1, list_2):\n",
    "    f_names = []\n",
    "    name = 0\n",
    "    for n in list_1:\n",
    "        f_names.append(list_1[name] + ' ' + list_2[name])\n",
    "        name +=1\n",
    "    return f_names\n",
    "    \n",
    "full(first_name, last_name)\n",
    "\n",
    "# Different way\n",
    "full_names = []\n",
    "for i in range(len(first_name)):\n",
    "    full_names.append(first_name[i] + ' ' + last_name[i])\n",
    "    print(full_names)\n",
    "\n",
    "# formatting it\n",
    "full_name = full[:] + last_n[:]\n",
    "print(f'{full[0]} {last_name[0]}')\n",
    "print(f'{full[1]} {last_name[1]}')\n",
    "print(f'{full[2]} {last_name[2]}')\n",
    "print(f'{full[3]} {last_name[3]}')\n"
   ]
  },
  {
   "cell_type": "markdown",
   "metadata": {},
   "source": [
    "## Scope <br>\n",
    "<p>Scope refers to the ability to access variables, different types of scope include:<br>a) Global<br>b) Function (local)<br>c) Class (local)</p>"
   ]
  },
  {
   "cell_type": "code",
   "execution_count": 379,
   "metadata": {},
   "outputs": [
    {
     "name": "stdout",
     "output_type": "stream",
     "text": [
      "17\n",
      "10\n"
     ]
    }
   ],
   "source": [
    "number = 17 #Global variable; accessible ANHYWHERE in my code now\n",
    "\n",
    "def func():\n",
    "    number = 6 #Local Function Variable; redefines things in func\n",
    "    number += 4\n",
    "    return number\n",
    "\n",
    "print(number)\n",
    "print(func())"
   ]
  },
  {
   "cell_type": "markdown",
   "metadata": {},
   "source": [
    "# Exercises"
   ]
  },
  {
   "cell_type": "markdown",
   "metadata": {},
   "source": [
    "## Exercise 1 <br>\n",
    "<p>Given a list as a parameter,write a function that returns a list of numbers that are less than ten</b></i></p><br>\n",
    "<p> For example: Say your input parameter to the function is [1,11,14,5,8,9]...Your output should [1,5,8,9]</p>"
   ]
  },
  {
   "cell_type": "code",
   "execution_count": 605,
   "metadata": {},
   "outputs": [
    {
     "data": {
      "text/plain": [
       "[1, 5, 8, 9]"
      ]
     },
     "execution_count": 605,
     "metadata": {},
     "output_type": "execute_result"
    }
   ],
   "source": [
    "# Use the following list - [1,11,14,5,8,9]\n",
    "\n",
    "l_1 = [1,11,14,5,8,9]\n",
    "\n",
    "def nums(list_1):\n",
    "    numbers = []\n",
    "    r=len(list_1)\n",
    "    for r in list_1:\n",
    "        if r <=10:\n",
    "            numbers.append(r)\n",
    "    return numbers\n",
    "\n",
    "nums(l_1)\n",
    "\n",
    "# Different way\n",
    "# l_1.sort()\n",
    "# for i in l_1:\n",
    "#     if i <=10:\n",
    "#         print(i)\n",
    "\n",
    "# print(l_1)"
   ]
  },
  {
   "cell_type": "markdown",
   "metadata": {},
   "source": [
    "## Exercise 2 <br>\n",
    "<p>Write a function that takes in two lists and returns the two lists merged together and sorted<br>\n",
    "<b><i>Hint: You can use the .sort() method</i></b></p>"
   ]
  },
  {
   "cell_type": "code",
   "execution_count": 606,
   "metadata": {},
   "outputs": [
    {
     "name": "stdout",
     "output_type": "stream",
     "text": [
      "[1, 2, 3, 3, 4, 4, 5, 5, 6, 6, 7, 8, 10]\n"
     ]
    }
   ],
   "source": [
    "l_1 = [1,2,3,4,5,6]\n",
    "l_2 = [3,4,5,6,7,8,10]\n",
    "\n",
    "def t_list(list_1, list_2):\n",
    "    new_list = []\n",
    "    num = 0\n",
    "    for n in list_1:\n",
    "        f_names.append(list_1[num] + list_2[num])\n",
    "        num +=1\n",
    "    return new_list.sort()\n",
    "print(new_list)\n",
    "# Or w/o function\n",
    "\n",
    "# new_list = l_1 + l_2\n",
    "# print(new_list.sort())\n",
    "# print(new_list)\n",
    "\n",
    "\n"
   ]
  }
 ],
 "metadata": {
  "kernelspec": {
   "display_name": "Python 3 (ipykernel)",
   "language": "python",
   "name": "python3"
  },
  "language_info": {
   "codemirror_mode": {
    "name": "ipython",
    "version": 3
   },
   "file_extension": ".py",
   "mimetype": "text/x-python",
   "name": "python",
   "nbconvert_exporter": "python",
   "pygments_lexer": "ipython3",
   "version": "3.11.5"
  }
 },
 "nbformat": 4,
 "nbformat_minor": 2
}
