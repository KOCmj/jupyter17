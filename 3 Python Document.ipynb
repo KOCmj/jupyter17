{
 "cells": [
  {
   "cell_type": "markdown",
   "metadata": {},
   "source": [
    "# Data Collections 2 (Dictionaries, Sets) and Importing Modules"
   ]
  },
  {
   "cell_type": "markdown",
   "metadata": {},
   "source": [
    "## Tasks Today:\n",
    "\n",
    "1) Dictionary <br>\n",
    " &nbsp;&nbsp;&nbsp;&nbsp; a) Declaring (key, value) <br>\n",
    " &nbsp;&nbsp;&nbsp;&nbsp; b) Accessing Values <br>\n",
    " &nbsp;&nbsp;&nbsp;&nbsp; ------ Exercise #1 - Print the eye color of each person in a double nested dict <br>\n",
    " &nbsp;&nbsp;&nbsp;&nbsp; c) Adding New Pairs <br>\n",
    " &nbsp;&nbsp;&nbsp;&nbsp; d) Modifying Values <br>\n",
    " &nbsp;&nbsp;&nbsp;&nbsp; e) Removing Key, Value Pairs <br>\n",
    " &nbsp;&nbsp;&nbsp;&nbsp; f) Looping a Dictionary <br>\n",
    " &nbsp;&nbsp;&nbsp;&nbsp; g) Looping Only Keys <br>\n",
    " &nbsp;&nbsp;&nbsp;&nbsp; h) Looping Only Values <br>\n",
    " &nbsp;&nbsp;&nbsp;&nbsp; ------ Exercise #2 - Create a Function that Prints All Key Value Pairs within a print .format()  <br>\n",
    " &nbsp;&nbsp;&nbsp;&nbsp; i) sorted() <br>\n",
    " &nbsp;&nbsp;&nbsp;&nbsp; j) Lists with Dictionaries <br>\n",
    " &nbsp;&nbsp;&nbsp;&nbsp; k) Dictionaries with Lists <br>\n",
    " &nbsp;&nbsp;&nbsp;&nbsp; l) Dictionaries with Dictionaries <br>\n",
    " &nbsp;&nbsp;&nbsp;&nbsp; ------ Exercise #3 - Write a Function that asks someone's name and address, and then stores that into a dictionary, which prints all names and addresses after they're done putting information in...  <br>\n",
    "2) Dictionaries vs. Lists (over time)<br>\n",
    "3) Set <br>\n",
    " &nbsp;&nbsp;&nbsp;&nbsp; a) Declaring <br>\n",
    " &nbsp;&nbsp;&nbsp;&nbsp; b) .add() <br>\n",
    " &nbsp;&nbsp;&nbsp;&nbsp; c) .remove() <br>\n",
    " &nbsp;&nbsp;&nbsp;&nbsp; d) .union() <br>\n",
    " &nbsp;&nbsp;&nbsp;&nbsp; e) .intersection() <br>\n",
    " &nbsp;&nbsp;&nbsp;&nbsp; f) .difference() <br>\n",
    " &nbsp;&nbsp;&nbsp;&nbsp; g) Frozen Set <br>\n",
    "4) Modules <br>\n",
    " &nbsp;&nbsp;&nbsp;&nbsp; a) Importing Entire Modules <br>\n",
    " &nbsp;&nbsp;&nbsp;&nbsp; b) Importing Methods Only <br>\n",
    " &nbsp;&nbsp;&nbsp;&nbsp; c) Using the 'as' Keyword <br>\n",
    " &nbsp;&nbsp;&nbsp;&nbsp; d) Creating a Module <br>\n",
    "5) Exercises <br>\n",
    " &nbsp;&nbsp;&nbsp;&nbsp; a) Build a Shopping Cart <br>\n",
    " &nbsp;&nbsp;&nbsp;&nbsp; b) Create Your Own Module <br>"
   ]
  },
  {
   "cell_type": "markdown",
   "metadata": {},
   "source": [
    "## Dictionary <br>\n",
    "<p>A collection of data with 'key:value' pairs. Dictionaries are ordered as of Python 3.6</p>"
   ]
  },
  {
   "cell_type": "markdown",
   "metadata": {},
   "source": [
    "##### Declaring (key, value)"
   ]
  },
  {
   "cell_type": "code",
   "execution_count": 93,
   "metadata": {},
   "outputs": [
    {
     "name": "stdout",
     "output_type": "stream",
     "text": [
      "{'Muffy': '222 Metaverse Street', 'Moro': '555 Blockchain Street', 0: 'This is a value for the key of 0'}\n"
     ]
    }
   ],
   "source": [
    "# Keys should be unique\n",
    "# Can use numbers or strings as keys\n",
    "\n",
    "dict_1 = {}\n",
    "\n",
    "# or\n",
    "\n",
    "dict_2 = dict()\n",
    "\n",
    "# With data\n",
    "# Can't reorder dict\n",
    "dict_3 = {\n",
    "    'Muffy': '222 Metaverse Street',\n",
    "    'Moro': '555 Blockchain Street',\n",
    "    0: 'This is a value for the key of 0',\n",
    "}\n",
    "\n",
    "print(dict_3)"
   ]
  },
  {
   "cell_type": "markdown",
   "metadata": {},
   "source": [
    "##### Accessing Values"
   ]
  },
  {
   "cell_type": "code",
   "execution_count": 5,
   "metadata": {},
   "outputs": [
    {
     "name": "stdout",
     "output_type": "stream",
     "text": [
      "222 Metaverse Street\n",
      "This is a value for the key of 0\n"
     ]
    }
   ],
   "source": [
    "# dict[key]\n",
    "# ^ this returns the value\n",
    "\n",
    "dict_3['Moro']\n",
    "# if you want more than one\n",
    "print(dict_3['Muffy'])\n",
    "print(dict_3[0])"
   ]
  },
  {
   "cell_type": "markdown",
   "metadata": {},
   "source": [
    "## In-Class Exercise #1 - Print a formatted statement from the dictionary below <br>\n",
    "<p>The output should be '2018 Chevrolet Silverado'</p>"
   ]
  },
  {
   "cell_type": "code",
   "execution_count": 63,
   "metadata": {},
   "outputs": [
    {
     "name": "stdout",
     "output_type": "stream",
     "text": [
      "'2018 Chevrolet Silverado'\n"
     ]
    }
   ],
   "source": [
    "# use the dict below\n",
    "truck = {\n",
    "    'year': 2018,\n",
    "    'make': 'Chevrolet',\n",
    "    'model': 'Silverado'\n",
    "}\n",
    "\n",
    "print(f\"'{truck['year']} {truck['make']} {truck['model']}'\")\n",
    "        \n"
   ]
  },
  {
   "cell_type": "markdown",
   "metadata": {},
   "source": [
    "##### Adding New Pairs"
   ]
  },
  {
   "cell_type": "code",
   "execution_count": 64,
   "metadata": {},
   "outputs": [
    {
     "data": {
      "text/plain": [
       "{'Muffy': '222 Metaverse Street',\n",
       " 'Moro': '555 Blockchain Street',\n",
       " 0: 'This is a value for the key of 0',\n",
       " 'Muji': '369 Blockchain ave'}"
      ]
     },
     "execution_count": 64,
     "metadata": {},
     "output_type": "execute_result"
    }
   ],
   "source": [
    "# dict[key] = value\n",
    "dict_3['Muji'] = '369 Blockchain ave'\n",
    "\n",
    "dict_3"
   ]
  },
  {
   "cell_type": "markdown",
   "metadata": {},
   "source": [
    "##### Modifying Values"
   ]
  },
  {
   "cell_type": "code",
   "execution_count": 65,
   "metadata": {},
   "outputs": [
    {
     "data": {
      "text/plain": [
       "{'Muffy': '222 Metaverse Street',\n",
       " 'Moro': '555 Blockchain Street',\n",
       " 0: 'This is a value for the key of 0',\n",
       " 'Muji': '111 Otherside blvd'}"
      ]
     },
     "execution_count": 65,
     "metadata": {},
     "output_type": "execute_result"
    }
   ],
   "source": [
    "# dict[key] = value\n",
    "dict_3['Muji'] = '111 Otherside blvd'\n",
    "\n",
    "dict_3"
   ]
  },
  {
   "cell_type": "markdown",
   "metadata": {},
   "source": [
    "##### Removing Key, Value Pairs"
   ]
  },
  {
   "cell_type": "code",
   "execution_count": 100,
   "metadata": {},
   "outputs": [
    {
     "ename": "KeyError",
     "evalue": "'M'",
     "output_type": "error",
     "traceback": [
      "\u001b[0;31m---------------------------------------------------------------------------\u001b[0m",
      "\u001b[0;31mKeyError\u001b[0m                                  Traceback (most recent call last)",
      "Cell \u001b[0;32mIn[100], line 3\u001b[0m\n\u001b[1;32m      1\u001b[0m \u001b[38;5;66;03m# del dict['key']\u001b[39;00m\n\u001b[0;32m----> 3\u001b[0m \u001b[38;5;28;01mdel\u001b[39;00m dict_3[\u001b[38;5;124m'\u001b[39m\u001b[38;5;124mMuffy\u001b[39m\u001b[38;5;124m'\u001b[39m[\u001b[38;5;241m0\u001b[39m]]\n\u001b[1;32m      5\u001b[0m dict_3\n",
      "\u001b[0;31mKeyError\u001b[0m: 'M'"
     ]
    }
   ],
   "source": [
    "# del dict['key']\n",
    "\n",
    "del dict_3['Muji']\n",
    "\n",
    "dict_3"
   ]
  },
  {
   "cell_type": "markdown",
   "metadata": {},
   "source": [
    "##### Looping a Dictionary"
   ]
  },
  {
   "cell_type": "code",
   "execution_count": 104,
   "metadata": {},
   "outputs": [
    {
     "name": "stdout",
     "output_type": "stream",
     "text": [
      "Muffy 222 Metaverse Street\n",
      "Moro 555 Blockchain Street\n",
      "0 This is a value for the key of 0\n"
     ]
    }
   ],
   "source": [
    "# .items()\n",
    "\n",
    "for k,v in dict_3.items():\n",
    "    print(k,v)\n",
    "\n"
   ]
  },
  {
   "cell_type": "markdown",
   "metadata": {},
   "source": [
    "##### Looping Only Keys"
   ]
  },
  {
   "cell_type": "code",
   "execution_count": 68,
   "metadata": {},
   "outputs": [
    {
     "name": "stdout",
     "output_type": "stream",
     "text": [
      "Muffy\n",
      "Moro\n",
      "0\n"
     ]
    }
   ],
   "source": [
    "# .keys()\n",
    "for k in dict_3.keys():\n",
    "    print(k)\n"
   ]
  },
  {
   "cell_type": "markdown",
   "metadata": {},
   "source": [
    "##### Looping Only Values"
   ]
  },
  {
   "cell_type": "code",
   "execution_count": 70,
   "metadata": {},
   "outputs": [
    {
     "name": "stdout",
     "output_type": "stream",
     "text": [
      "222 Metaverse Street\n",
      "555 Blockchain Street\n",
      "This is a value for the key of 0\n"
     ]
    }
   ],
   "source": [
    "# .values()\n",
    "for v in dict_3.values():\n",
    "    print(v)\n"
   ]
  },
  {
   "cell_type": "markdown",
   "metadata": {},
   "source": [
    "## In-Class Exercise #2 - Create a Function that Prints All Key Value Pairs within a print .format() <br>\n",
    "<p><b>Output should be:</b><br>\n",
    "Max has blue eyes<br>\n",
    "Lilly has brown eyes<br>\n",
    "Barney has blue eyes<br>\n",
    "etc.\n",
    "</p>"
   ]
  },
  {
   "cell_type": "code",
   "execution_count": 116,
   "metadata": {},
   "outputs": [
    {
     "name": "stdout",
     "output_type": "stream",
     "text": [
      "Max has blue eyes\n",
      "Lilly has brown eyes\n",
      "Barney has blue eyes\n",
      "Larney has brown eyes\n",
      "Ted has purple eyes\n"
     ]
    }
   ],
   "source": [
    "# use the dict below\n",
    "\n",
    "people = {\n",
    "    'Max': 'blue',\n",
    "    'Lilly': 'brown',\n",
    "    'Barney': 'blue',\n",
    "    'Larney': 'brown',\n",
    "    'Ted': 'purple'\n",
    "}\n",
    "\n",
    "for k,v in people.items():\n",
    "    print(f'{k + \" \" + \"has\" + \" \" + v + \" \" + \"eyes\"}')\n"
   ]
  },
  {
   "cell_type": "markdown",
   "metadata": {},
   "source": [
    "##### sorted()"
   ]
  },
  {
   "cell_type": "code",
   "execution_count": 125,
   "metadata": {},
   "outputs": [
    {
     "name": "stdout",
     "output_type": "stream",
     "text": [
      "[('Barney', 'blue'), ('Larney', 'brown'), ('Lilly', 'brown'), ('Max', 'blue'), ('Ted', 'purple')]\n",
      "['Barney', 'Larney', 'Lilly', 'Max', 'Ted']\n",
      "['blue', 'blue', 'brown', 'brown', 'purple']\n",
      "['blue', 'blue', 'brown', 'brown', 'purple']\n"
     ]
    }
   ],
   "source": [
    "# sorts variables in order\n",
    "# sorted(dict.values()) or dict.keys() or dict.items()\n",
    "\n",
    "print(sorted(people.items()))\n",
    "print(sorted(people.keys()))\n",
    "print(sorted(people.values()))\n",
    "\n",
    "# Another way\n",
    "new_variable = sorted(people.values())\n",
    "print(new_variable)"
   ]
  },
  {
   "cell_type": "markdown",
   "metadata": {},
   "source": [
    "##### List with Dictionaries"
   ]
  },
  {
   "cell_type": "code",
   "execution_count": 131,
   "metadata": {},
   "outputs": [
    {
     "name": "stdout",
     "output_type": "stream",
     "text": [
      "Fire domain expansion\n",
      "random_anime\n",
      "random_ability\n",
      "random_anime is JJK\n",
      "random_ability is Fire domain expansion\n"
     ]
    }
   ],
   "source": [
    "names = [\"Muffy\", \"Moro\", \"Muji\", {\"random_anime\": \"JJK\", \"random_ability\": \"Fire domain expansion\"}]\n",
    "\n",
    "print(names[3][\"random_ability\"])\n",
    "\n",
    "# Get all keys in nested dictionary in a list\n",
    "for k in names[3].keys():\n",
    "    print(k)\n",
    "    \n",
    "# Get all items in nested dict in a list\n",
    "for k,v in names[3].items():\n",
    "    print(f'{k} is {v}')"
   ]
  },
  {
   "cell_type": "markdown",
   "metadata": {},
   "source": [
    "##### Dictionaries with Lists"
   ]
  },
  {
   "cell_type": "code",
   "execution_count": 132,
   "metadata": {},
   "outputs": [
    {
     "name": "stdout",
     "output_type": "stream",
     "text": [
      "apple vr\n",
      "metaquest vr\n",
      "ray ban\n"
     ]
    }
   ],
   "source": [
    "# be careful when using numbers as keys in dictionaries, don't confuse them with indexes\n",
    "\n",
    "random_info = {\n",
    "    \"list_1\":[\"apple vr\", \"metaquest vr\", \"ray ban\"],\n",
    "    \"2\":[\"Metaverse\"],   \n",
    "}\n",
    "\n",
    "for k in random_info['list_1']:\n",
    "    print(k)"
   ]
  },
  {
   "cell_type": "markdown",
   "metadata": {},
   "source": [
    "##### Dictionaries with Dictionaries"
   ]
  },
  {
   "cell_type": "code",
   "execution_count": 135,
   "metadata": {},
   "outputs": [
    {
     "name": "stdout",
     "output_type": "stream",
     "text": [
      "8.5\n",
      "JJK rating is 8.5 out of 10\n",
      "AOT rating is 8.2 out of 10\n",
      "OP rating is 8.9 out of 10\n",
      "INVC rating is 8.1 out of 10\n"
     ]
    }
   ],
   "source": [
    "# to get values, must traverse through keys\n",
    "anime_dict = {\n",
    "    'Anime': {\n",
    "        \"JJK\": 8.5,\n",
    "        \"AOT\": 8.2,\n",
    "        \"OP\": 8.9,\n",
    "        \"INVC\": 8.1,\n",
    "    }\n",
    "}\n",
    "\n",
    "print(anime_dict['Anime']['JJK'])\n",
    "\n",
    "for k,v in anime_dict['Anime'].items():\n",
    "    print(f'{k} rating is {v} out of 10')"
   ]
  },
  {
   "cell_type": "markdown",
   "metadata": {},
   "source": [
    "## Dictionaries vs. Lists (over time) Example of RUNTIME\n",
    "### When inputting values in a Dictionary vs List"
   ]
  },
  {
   "cell_type": "code",
   "execution_count": 136,
   "metadata": {},
   "outputs": [],
   "source": [
    "import time\n",
    "\n",
    "\n",
    "# generate fake dictionary\n",
    "d = {}\n",
    "\n",
    "for i in range(10000000):\n",
    "    d[i] = 'value'\n",
    "    \n",
    "\n",
    "# generate fake list\n",
    "big_list = [x for x in range(10000000)]"
   ]
  },
  {
   "cell_type": "code",
   "execution_count": 137,
   "metadata": {},
   "outputs": [
    {
     "name": "stdout",
     "output_type": "stream",
     "text": [
      "value\n",
      "Elapsed time for dictionary: 0.0004420280456542969\n",
      "9999999\n",
      "Elapsed time for list: 0.23744797706604004\n"
     ]
    }
   ],
   "source": [
    "# tracking time for dictionary\n",
    "start_time = time.time()\n",
    "\n",
    "print(d[9999999])\n",
    "\n",
    "end_time = time.time() - start_time\n",
    "\n",
    "print('Elapsed time for dictionary: {}'.format(end_time))\n",
    "\n",
    "\n",
    "# tracking time for list\n",
    "start_time = time.time()\n",
    "\n",
    "for i in range(len(big_list)):\n",
    "    if i == 9999999:\n",
    "        print(i)\n",
    "\n",
    "end_time = time.time() - start_time\n",
    "\n",
    "print('Elapsed time for list: {}'.format(end_time))"
   ]
  },
  {
   "cell_type": "raw",
   "metadata": {},
   "source": [
    " Exercise #3 - Write a Function that asks someone's name and address, and then stores that into a dictionary, and continues to do so until they choose to 'quit'. Once they quit, the program should print all names and addresses. <br>\n",
    "<p>\n",
    "<b>Proper steps:</b><br>\n",
    "step 1: write a function that takes in information and stores it in a dictionary<br>\n",
    "step 2: define an empty dictionary to work with<br>\n",
    "step 3: create our loop, which asks the user for information until they quit<br>\n",
    "step 4: ask for the information, and store it into variables<br>\n",
    "step 5: check if the user types quit<br>\n",
    "step 5a: print out all information<br>\n",
    "step 5b: break out of the loop<br>\n",
    "step 6: if they didn't quit, add the information to the dictionary<br>\n",
    "step 7: invoke the function by calling it\n",
    "</p>"
   ]
  },
  {
   "cell_type": "code",
   "execution_count": 111,
   "metadata": {},
   "outputs": [
    {
     "name": "stdout",
     "output_type": "stream",
     "text": [
      " The ranking for JJK is 9\n",
      " Beep Beep...\n"
     ]
    },
    {
     "ename": "KeyError",
     "evalue": "' '",
     "output_type": "error",
     "traceback": [
      "\u001b[0;31m---------------------------------------------------------------------------\u001b[0m",
      "\u001b[0;31mKeyError\u001b[0m                                  Traceback (most recent call last)",
      "Cell \u001b[0;32mIn[111], line 18\u001b[0m\n\u001b[1;32m     16\u001b[0m             \u001b[38;5;28;01mbreak\u001b[39;00m\n\u001b[1;32m     17\u001b[0m         a[name] \u001b[38;5;241m=\u001b[39m ranking\n\u001b[0;32m---> 18\u001b[0m storeAnime()\n",
      "Cell \u001b[0;32mIn[111], line 15\u001b[0m, in \u001b[0;36mstoreAnime\u001b[0;34m()\u001b[0m\n\u001b[1;32m     13\u001b[0m         \u001b[38;5;28mprint\u001b[39m(\u001b[38;5;124mf\u001b[39m\u001b[38;5;124m'\u001b[39m\u001b[38;5;124m The ranking for \u001b[39m\u001b[38;5;132;01m{\u001b[39;00mk\u001b[38;5;132;01m}\u001b[39;00m\u001b[38;5;124m is \u001b[39m\u001b[38;5;132;01m{\u001b[39;00mv\u001b[38;5;132;01m}\u001b[39;00m\u001b[38;5;124m'\u001b[39m)\n\u001b[1;32m     14\u001b[0m         \u001b[38;5;28mprint\u001b[39m(\u001b[38;5;124mf\u001b[39m\u001b[38;5;124m\"\u001b[39m\u001b[38;5;124m Beep Beep...\u001b[39m\u001b[38;5;124m\"\u001b[39m)\n\u001b[0;32m---> 15\u001b[0m         removed_v \u001b[38;5;241m=\u001b[39m a\u001b[38;5;241m.\u001b[39mpop(\u001b[38;5;124m'\u001b[39m\u001b[38;5;124m \u001b[39m\u001b[38;5;124m'\u001b[39m)\n\u001b[1;32m     16\u001b[0m     \u001b[38;5;28;01mbreak\u001b[39;00m\n\u001b[1;32m     17\u001b[0m a[name] \u001b[38;5;241m=\u001b[39m ranking\n",
      "\u001b[0;31mKeyError\u001b[0m: ' '"
     ]
    }
   ],
   "source": [
    "from IPython.display import clear_output\n",
    "\n",
    "def storeAnime():\n",
    "    a = {}\n",
    "    \n",
    "    while True:\n",
    "        name= input(\"What is your favorite anime? Enter 'quit' if you don't have one: \")\n",
    "        ranking = input(\"What is your rating for that anime? Enter 'quit' if you don't have one: \")\n",
    "        clear_output()\n",
    "        \n",
    "        if name.lower() == 'quit' or ranking.lower() == 'quit':\n",
    "            for k,v in a.items():\n",
    "                print(f' The ranking for {k} is {v}'\n",
    "            break\n",
    "        a[name] = ranking\n",
    "storeAnime()\n",
    "\n"
   ]
  },
  {
   "cell_type": "markdown",
   "metadata": {},
   "source": [
    "## Set <br>\n",
    "<p>A Set is an unordered collection data type that is iterable (loop), mutable, and has no duplicate elements.<br>Major advantage is that it is highly optimized in checking if something is in the set, as opposed to checking if something is in a list.</p>"
   ]
  },
  {
   "cell_type": "markdown",
   "metadata": {},
   "source": [
    "##### Declaring"
   ]
  },
  {
   "cell_type": "code",
   "execution_count": 29,
   "metadata": {},
   "outputs": [
    {
     "name": "stdout",
     "output_type": "stream",
     "text": [
      "{17, 1, 6}\n",
      "{17, 2, 5}\n"
     ]
    }
   ],
   "source": [
    "# set() or {}\n",
    "# no order {3, 2, 1} outputs as {1, 2, 3}\n",
    "\n",
    "nums = {17,1,6,17}\n",
    "\n",
    "print(nums)"
   ]
  },
  {
   "cell_type": "markdown",
   "metadata": {},
   "source": [
    "##### .add()"
   ]
  },
  {
   "cell_type": "code",
   "execution_count": 27,
   "metadata": {},
   "outputs": [
    {
     "name": "stdout",
     "output_type": "stream",
     "text": [
      "{17, 222, 1, 6}\n"
     ]
    }
   ],
   "source": [
    "# set.add()\n",
    "nums.add(222)\n",
    "\n",
    "print(nums)"
   ]
  },
  {
   "cell_type": "markdown",
   "metadata": {},
   "source": [
    "##### .remove()"
   ]
  },
  {
   "cell_type": "code",
   "execution_count": 28,
   "metadata": {},
   "outputs": [
    {
     "name": "stdout",
     "output_type": "stream",
     "text": [
      "{17, 1, 6}\n"
     ]
    }
   ],
   "source": [
    "# removes by value\n",
    "# set.remove()\n",
    "# nums.remove(56)\n",
    "nums.remove(222)\n",
    "\n",
    "print(nums)\n"
   ]
  },
  {
   "cell_type": "markdown",
   "metadata": {},
   "source": [
    "##### .union() "
   ]
  },
  {
   "cell_type": "code",
   "execution_count": 31,
   "metadata": {},
   "outputs": [
    {
     "name": "stdout",
     "output_type": "stream",
     "text": [
      "{1, 33, 17, 444, 333, 222}\n",
      "{1, 33, 17, 444, 333, 222}\n"
     ]
    }
   ],
   "source": [
    "# Returns a union of two sets, can also use '|' or set.union(set)\n",
    "# joins all numbers, gets rid of duplicates\n",
    "s_1 = {333,222,444,1}\n",
    "s_2 = {33, 1, 17}\n",
    "\n",
    "s_3 = s_1.union(s_2)\n",
    "\n",
    "print(s_3)\n",
    "\n",
    "# Another way \n",
    "\n",
    "s_4 = s_1 | s_2\n",
    "\n",
    "print(s_4)"
   ]
  },
  {
   "cell_type": "markdown",
   "metadata": {},
   "source": [
    "##### .intersection()"
   ]
  },
  {
   "cell_type": "code",
   "execution_count": 33,
   "metadata": {},
   "outputs": [
    {
     "name": "stdout",
     "output_type": "stream",
     "text": [
      "{1}\n",
      "{1}\n"
     ]
    }
   ],
   "source": [
    "# Returns an intersection of two sets, can also use '&'\n",
    "# only takes similar elements from both sets\n",
    "\n",
    "s_5 = s_1 & s_2\n",
    "print(s_5)\n",
    "\n",
    "# Or\n",
    "\n",
    "s_6 = s_1.intersection(s_2)\n",
    "\n",
    "print(s_6)\n"
   ]
  },
  {
   "cell_type": "markdown",
   "metadata": {},
   "source": [
    "##### .difference()"
   ]
  },
  {
   "cell_type": "code",
   "execution_count": 34,
   "metadata": {},
   "outputs": [
    {
     "name": "stdout",
     "output_type": "stream",
     "text": [
      "{1, 444, 333, 222}\n",
      "{33, 1, 17}\n",
      "{444, 333, 222}\n",
      "{33, 17}\n"
     ]
    }
   ],
   "source": [
    "# Returns a set containing all the elements of invoking set that are not in the second set, can also use '-'\n",
    "# only takes values from the first set that are not in the second set\n",
    "# order matters\n",
    "\n",
    "s_7 = s_1 - s_2\n",
    "\n",
    "# Or\n",
    "\n",
    "s_8 = s_2.difference(s_1)\n",
    "\n",
    "print(s_1)\n",
    "print(s_2)\n",
    "print(s_7)\n",
    "print(s_8)"
   ]
  },
  {
   "cell_type": "markdown",
   "metadata": {},
   "source": [
    "##### .clear()"
   ]
  },
  {
   "cell_type": "code",
   "execution_count": 35,
   "metadata": {},
   "outputs": [
    {
     "name": "stdout",
     "output_type": "stream",
     "text": [
      "set()\n"
     ]
    }
   ],
   "source": [
    "# Empties the whole set\n",
    "# set.clear()\n",
    "s_8.clear()\n",
    "\n",
    "print(s_8)"
   ]
  },
  {
   "cell_type": "markdown",
   "metadata": {},
   "source": [
    "##### Frozenset <br>\n",
    "<p>Frozen sets are immutable objects that only support methods and operators that produce a result without affecting the frozen set or sets to which they are applied.</p><br><b>Unique & Immutable</b>"
   ]
  },
  {
   "cell_type": "code",
   "execution_count": 40,
   "metadata": {},
   "outputs": [
    {
     "name": "stdout",
     "output_type": "stream",
     "text": [
      "frozenset({1, 33, 17, 555, 444, 333, 222})\n"
     ]
    }
   ],
   "source": [
    "# frozenset([])\n",
    "s_3.add(555)\n",
    "fro_set = frozenset(s_3)\n",
    "\n",
    "print(fro_set)"
   ]
  },
  {
   "cell_type": "markdown",
   "metadata": {},
   "source": [
    "## Modules"
   ]
  },
  {
   "cell_type": "markdown",
   "metadata": {},
   "source": [
    "##### Importing Entire Modules"
   ]
  },
  {
   "cell_type": "code",
   "execution_count": 62,
   "metadata": {},
   "outputs": [
    {
     "name": "stdout",
     "output_type": "stream",
     "text": [
      "3.141592653589793\n",
      "3\n"
     ]
    }
   ],
   "source": [
    "# import or from 'xxx' import *\n",
    "# import math\n",
    "from math import pi\n",
    "# or for two in one\n",
    "from math import pi,floor\n",
    "# Or you can just say \n",
    "import math\n",
    "\n",
    "\n",
    "\n",
    "print(pi)\n",
    "print(floor(pi))"
   ]
  },
  {
   "cell_type": "markdown",
   "metadata": {},
   "source": [
    "##### Importing Methods Only"
   ]
  },
  {
   "cell_type": "code",
   "execution_count": 63,
   "metadata": {},
   "outputs": [
    {
     "name": "stdout",
     "output_type": "stream",
     "text": [
      "3\n"
     ]
    }
   ],
   "source": [
    "# from 'xxx' import 'xxx'\n",
    "# from math import floor\n",
    "\n",
    "from math import floor,pi\n",
    "\n",
    "print(floor(pi))"
   ]
  },
  {
   "cell_type": "markdown",
   "metadata": {},
   "source": [
    "##### Using the 'as' Keyword"
   ]
  },
  {
   "cell_type": "code",
   "execution_count": 59,
   "metadata": {},
   "outputs": [
    {
     "name": "stdout",
     "output_type": "stream",
     "text": [
      "3\n"
     ]
    }
   ],
   "source": [
    "# from 'xxx' import 'xxx' as 'xxx' or import 'xxx' as 'xxx'\n",
    "# from math import floor as f\n",
    "\n",
    "from math import floor as f, pi as p\n",
    "\n",
    "print(f(p))"
   ]
  },
  {
   "cell_type": "markdown",
   "metadata": {},
   "source": [
    "##### Creating a Module"
   ]
  },
  {
   "cell_type": "code",
   "execution_count": 116,
   "metadata": {},
   "outputs": [
    {
     "ename": "TypeError",
     "evalue": "'module' object is not callable",
     "output_type": "error",
     "traceback": [
      "\u001b[0;31m---------------------------------------------------------------------------\u001b[0m",
      "\u001b[0;31mTypeError\u001b[0m                                 Traceback (most recent call last)",
      "Cell \u001b[0;32mIn[116], line 4\u001b[0m\n\u001b[1;32m      1\u001b[0m \u001b[38;5;28;01mimport\u001b[39;00m \u001b[38;5;21;01mmodule\u001b[39;00m\n\u001b[1;32m      2\u001b[0m \u001b[38;5;28;01mfrom\u001b[39;00m \u001b[38;5;21;01mmodule\u001b[39;00m \u001b[38;5;28;01mimport\u001b[39;00m printName\n\u001b[0;32m----> 4\u001b[0m \u001b[38;5;28mprint\u001b[39m(module(\u001b[38;5;124m'\u001b[39m\u001b[38;5;124mMuffy\u001b[39m\u001b[38;5;124m'\u001b[39m))\n",
      "\u001b[0;31mTypeError\u001b[0m: 'module' object is not callable"
     ]
    }
   ],
   "source": [
    "import module\n",
    "from module import printName\n",
    "\n",
    "print(module)('Muffy')"
   ]
  },
  {
   "cell_type": "markdown",
   "metadata": {},
   "source": [
    "# Exercises"
   ]
  },
  {
   "cell_type": "markdown",
   "metadata": {},
   "source": [
    "### 1) Build a Shopping Cart <br>\n",
    "<p><b>You can use either lists or dictionaries. The program should have the following capabilities:</b><br><br>\n",
    "1) Takes in input <br>\n",
    "2) Stores user input into a dictionary or list <br>\n",
    "3) The User can add or delete items <br>\n",
    "4) The User can see current shopping list <br>\n",
    "5) The program Loops until user 'quits' <br>\n",
    "6) Upon quiting the program, print out all items in the user's list <br>\n",
    "</p>"
   ]
  },
  {
   "cell_type": "code",
   "execution_count": 29,
   "metadata": {},
   "outputs": [
    {
     "name": "stdout",
     "output_type": "stream",
     "text": [
      "\n",
      "                 Welcome to Metaverse Garden\n",
      "                 ---------------------------\n",
      "What would you like to buy today here at Metaverse Garden? (Enter 'q' to leave or 'r' to remove an item or 's' to show cart or 'A' to add to cart): oats, rice, garbanzo beans, kiwi\n",
      "oats, rice, garbanzo beans, kiwi added to cart. Beep Beep...\n",
      "What would you like to buy today here at Metaverse Garden? (Enter 'q' to leave or 'r' to remove an item or 's' to show cart or 'A' to add to cart): eggs, honey\n",
      "eggs, honey added to cart. Beep Beep...\n",
      "What would you like to buy today here at Metaverse Garden? (Enter 'q' to leave or 'r' to remove an item or 's' to show cart or 'A' to add to cart): r\n",
      "Current items in cart: oats, rice, garbanzo beans, kiwi, eggs, honey\n",
      "Which item would you like to remove? eggs, honey\n",
      "eggs, honey removed.\n",
      "What would you like to buy today here at Metaverse Garden? (Enter 'q' to leave or 'r' to remove an item or 's' to show cart or 'A' to add to cart): A\n",
      "What would you like to add? apples, aguave, potatoes, water\n",
      "apples, aguave, potatoes, water added to cart. Beep Beep...\n",
      "What would you like to buy today here at Metaverse Garden? (Enter 'q' to leave or 'r' to remove an item or 's' to show cart or 'A' to add to cart): s\n",
      "['oats, rice, garbanzo beans, kiwi', 'apples, aguave, potatoes, water']\n",
      "What would you like to buy today here at Metaverse Garden? (Enter 'q' to leave or 'r' to remove an item or 's' to show cart or 'A' to add to cart): q\n",
      "----------CART----------\n",
      "oats, rice, garbanzo beans, kiwi\n",
      "apples, aguave, potatoes, water\n",
      "The total comes up to: $Free99\n",
      "Thank you for shopping at Metaverse Garden come again!\n"
     ]
    }
   ],
   "source": [
    "from IPython.display import clear_output\n",
    "#Ask the user four bits of input: Do you want to : Show/Add/Delete or Quit?\n",
    "\n",
    "\n",
    "welcome = print(\"\"\"\n",
    "                 Welcome to Metaverse Garden\n",
    "                 ---------------------------\"\"\")\n",
    "\n",
    "cart_items = []\n",
    "final = \"Free99\"\n",
    "\n",
    "while True:\n",
    "    item = input(\"What would you like to buy today here at Metaverse Garden? (Enter 'q' to leave or 'r' to remove an item or 's' to show cart or 'A' to add to cart): \")\n",
    "    if item.lower() == 'q':\n",
    "        break\n",
    "    elif item.lower() == 'r':\n",
    "        if cart_items:\n",
    "            print(\"Current items in cart:\", ', '.join(cart_items))\n",
    "            remove_item = input(\"Which item would you like to remove? \")\n",
    "            if remove_item in cart_items:\n",
    "                cart_items.remove(remove_item)\n",
    "                print(f\"{remove_item} removed.\")\n",
    "            else:\n",
    "                print(\"Item not found in cart.\")\n",
    "        else:\n",
    "            print(\"Your cart is empty.\")\n",
    "    elif item.lower() == 's':\n",
    "        print(cart_items)\n",
    "    elif item.upper() == 'A':\n",
    "        product = input('What would you like to add? ')\n",
    "        cart_items.append(product)\n",
    "        print(f\"{product} added to cart. Beep Beep...\")\n",
    "    else:\n",
    "        cart_items.append(item)\n",
    "        print(f\"{item} added to cart. Beep Beep...\")\n",
    "\n",
    "\n",
    "print(\"----------CART----------\")\n",
    "for item in cart_items:\n",
    "    print(item)\n",
    "\n",
    "print(f\"The total comes up to: ${final}\") \n",
    "print(\"Thank you for shopping at Metaverse Garden come again!\")"
   ]
  },
  {
   "cell_type": "markdown",
   "metadata": {},
   "source": [
    "### 2) Create a Module in VS Code and Import It into jupyter notebook <br>\n",
    "<p><b>Module should have the following capabilities:</b><br><br>\n",
    "1) Has a function to calculate the square footage of a house <br>\n",
    "    <b>Reminder of Formula: Length X Width == Area<br>\n",
    "        <hr>\n",
    "2) Has a function to calculate the circumference of a circle <br><br>\n",
    "<b>Program in Jupyter Notebook should take in user input and use imported functions to calculate a circle's circumference or a houses square footage</b>\n",
    "</p>"
   ]
  },
  {
   "cell_type": "code",
   "execution_count": 1,
   "metadata": {},
   "outputs": [
    {
     "name": "stdout",
     "output_type": "stream",
     "text": [
      "Let's play a game for areas and circumferences.\n",
      "What is the length of your house? Enter ('q') if you don't want to play: 60\n",
      "What is the width of your house? Enter ('q') if you don't want to play: 40\n",
      "2400\n",
      "Enter a radius, any radius and we shall return the circumference! Enter ('q') if you don't want to play: 4.7\n",
      "29.530970943744055\n",
      "<function printArea at 0x104b15800>\n"
     ]
    }
   ],
   "source": [
    "# This runs perfectly fine on vscode\n",
    "\n",
    "from c import printArea\n",
    "\n",
    "print(printArea)"
   ]
  },
  {
   "cell_type": "code",
   "execution_count": 2,
   "metadata": {},
   "outputs": [],
   "source": [
    "# from c import printArea\n",
    "\n",
    "# print(printArea)"
   ]
  },
  {
   "cell_type": "code",
   "execution_count": null,
   "metadata": {},
   "outputs": [],
   "source": []
  }
 ],
 "metadata": {
  "kernelspec": {
   "display_name": "Python 3 (ipykernel)",
   "language": "python",
   "name": "python3"
  },
  "language_info": {
   "codemirror_mode": {
    "name": "ipython",
    "version": 3
   },
   "file_extension": ".py",
   "mimetype": "text/x-python",
   "name": "python",
   "nbconvert_exporter": "python",
   "pygments_lexer": "ipython3",
   "version": "3.11.5"
  }
 },
 "nbformat": 4,
 "nbformat_minor": 2
}
