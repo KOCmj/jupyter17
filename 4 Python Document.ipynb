{
 "cells": [
  {
   "cell_type": "markdown",
   "metadata": {},
   "source": [
    "# Object-Oriented-Programming (OOP)"
   ]
  },
  {
   "cell_type": "markdown",
   "metadata": {},
   "source": [
    "## Tasks Today:\n",
    "\n",
    "   \n",
    "\n",
    "1) <b>Creating a Class (Initializing/Declaring)</b> <br>\n",
    "2) <b>Using a Class (Instantiating)</b> <br>\n",
    " &nbsp;&nbsp;&nbsp;&nbsp; a) Creating One Instance <br>\n",
    " &nbsp;&nbsp;&nbsp;&nbsp; b) Creating Multiple Instances <br>\n",
    " &nbsp;&nbsp;&nbsp;&nbsp; c) In-Class Exercise #1 - Create a Class 'Car' and instantiate three different makes of cars <br>\n",
    "3) <b>The \\__init\\__() Method</b> <br>\n",
    " &nbsp;&nbsp;&nbsp;&nbsp; a) The 'self' Attribute <br>\n",
    "4) <b>Class Attributes</b> <br>\n",
    " &nbsp;&nbsp;&nbsp;&nbsp; a) Initializing Attributes <br>\n",
    " &nbsp;&nbsp;&nbsp;&nbsp; b) Setting an Attribute Outside of the \\__init\\__() Method <br>\n",
    " &nbsp;&nbsp;&nbsp;&nbsp; c) Setting Defaults for Attributes <br>\n",
    " &nbsp;&nbsp;&nbsp;&nbsp; d) Accessing Class Attributes <br>\n",
    " &nbsp;&nbsp;&nbsp;&nbsp; e) Changing Class Attributes <br>\n",
    " &nbsp;&nbsp;&nbsp;&nbsp; f) In-Class Exercise #2 - Add a color and wheels attribute to your 'Car' class <br>\n",
    "5) <b>Class Methods</b> <br>\n",
    " &nbsp;&nbsp;&nbsp;&nbsp; a) Creating <br>\n",
    " &nbsp;&nbsp;&nbsp;&nbsp; b) Calling <br>\n",
    " &nbsp;&nbsp;&nbsp;&nbsp; c) Modifying an Attribute's Value Through a Method <br>\n",
    " &nbsp;&nbsp;&nbsp;&nbsp; d) Incrementing an Attribute's Value Through a Method <br>\n",
    " &nbsp;&nbsp;&nbsp;&nbsp; e) In-Class Exercise #3 - Add a method that prints the cars color and wheel number, then call them <br>\n",
    "6) <b>Inheritance</b> <br>\n",
    " &nbsp;&nbsp;&nbsp;&nbsp; a) Syntax for Inheriting from a Parent Class <br>\n",
    " &nbsp;&nbsp;&nbsp;&nbsp; b) The \\__init\\__() Method for a Child Class (super()) <br>\n",
    " &nbsp;&nbsp;&nbsp;&nbsp; c) Defining Attributes and Methods for the Child Class <br>\n",
    " &nbsp;&nbsp;&nbsp;&nbsp; d) Method Overriding <br>\n",
    " &nbsp;&nbsp;&nbsp;&nbsp; e) In-Class Exercise #4 - Create a class 'Ford' that inherits from 'Car' class and initialize it as a Blue Ford Explorer with 4 wheels using the super() method <br>\n",
    "7) <b>Classes as Attributes</b> <br>\n",
    "8) <b>Exercises</b> <br>\n",
    " &nbsp;&nbsp;&nbsp;&nbsp; a) Exercise #1 - Turn the shopping cart program from yesterday into an object-oriented program <br>"
   ]
  },
  {
   "cell_type": "markdown",
   "metadata": {},
   "source": [
    "## Creating a Class (Initializing/Declaring)\n",
    "<p>When creating a class, function, or even a variable you are initializing that object. Initializing and Declaring occur at the same time in Python, whereas in lower level languages you have to declare an object before initializing it. This is the first step in the process of using a class.</p>"
   ]
  },
  {
   "cell_type": "code",
   "execution_count": 14,
   "metadata": {},
   "outputs": [
    {
     "ename": "TypeError",
     "evalue": "Car.headlights() takes 0 positional arguments but 1 was given",
     "output_type": "error",
     "traceback": [
      "\u001b[0;31m---------------------------------------------------------------------------\u001b[0m",
      "\u001b[0;31mTypeError\u001b[0m                                 Traceback (most recent call last)",
      "Cell \u001b[0;32mIn[14], line 10\u001b[0m\n\u001b[1;32m      7\u001b[0m         \u001b[38;5;28mprint\u001b[39m(\u001b[38;5;124m'\u001b[39m\u001b[38;5;124mTurn on your headlights so you can see.\u001b[39m\u001b[38;5;124m'\u001b[39m)\n\u001b[1;32m      9\u001b[0m corvette \u001b[38;5;241m=\u001b[39m Car()\n\u001b[0;32m---> 10\u001b[0m \u001b[38;5;28mprint\u001b[39m(corvette\u001b[38;5;241m.\u001b[39mheadlights())\n",
      "\u001b[0;31mTypeError\u001b[0m: Car.headlights() takes 0 positional arguments but 1 was given"
     ]
    }
   ],
   "source": [
    "class Car():                          #similar to html/css\n",
    "    wheels = 4\n",
    "    color = 'blue'\n",
    "    strip = 'white'\n",
    "    \n",
    "#     def headlights():\n",
    "#         print('Turn on your headlights so you can see.')\n",
    "        \n",
    "corvette = Car()\n",
    "print(corvette.headlights())"
   ]
  },
  {
   "cell_type": "markdown",
   "metadata": {},
   "source": [
    "## Using a Class (Instantiating)\n",
    "<p>The process of creating a class is called <i>Instantiating</i>. Each time you create a variable of that type of class, it is referred to as an <i>Instance</i> of that class. This is the second step in the process of using a class.</p>"
   ]
  },
  {
   "cell_type": "markdown",
   "metadata": {},
   "source": [
    "##### Creating One Instance"
   ]
  },
  {
   "cell_type": "code",
   "execution_count": 6,
   "metadata": {},
   "outputs": [
    {
     "name": "stdout",
     "output_type": "stream",
     "text": [
      "blue\n",
      "4\n",
      "white\n"
     ]
    }
   ],
   "source": [
    "ford = Car()\n",
    "\n",
    "print(ford.color)\n",
    "print(ford.wheels)\n",
    "print(ford.strip)"
   ]
  },
  {
   "cell_type": "markdown",
   "metadata": {},
   "source": [
    "##### Creating Multiple Instances"
   ]
  },
  {
   "cell_type": "code",
   "execution_count": 8,
   "metadata": {},
   "outputs": [
    {
     "name": "stdout",
     "output_type": "stream",
     "text": [
      "<class 'str'>\n"
     ]
    }
   ],
   "source": [
    "corvette = Car()\n",
    "tesla = Car()\n",
    "bmw = Car()\n",
    "\n",
    "print(type(corvette.color))"
   ]
  },
  {
   "cell_type": "markdown",
   "metadata": {},
   "source": [
    "##### In-Class Exercise #1 - Create a Class 'Car' and Instantiate three different makes of cars"
   ]
  },
  {
   "cell_type": "code",
   "execution_count": 11,
   "metadata": {},
   "outputs": [
    {
     "name": "stdout",
     "output_type": "stream",
     "text": [
      "4\n",
      "silver\n",
      "blue\n",
      "yes\n",
      "2025\n"
     ]
    }
   ],
   "source": [
    "class Car_2():\n",
    "    wheels = 4\n",
    "    color = 'silver'\n",
    "    strip_color = 'blue'\n",
    "    spoiler = 'yes'\n",
    "    year = 2025\n",
    "    \n",
    "    \n",
    "corvette = Car_2()\n",
    "tesla = Car_2()\n",
    "bmw = Car_2()\n",
    "\n",
    "print(corvette.wheels)\n",
    "print(corvette.color)\n",
    "print(corvette.strip_color)\n",
    "print(corvette.spoiler)\n",
    "print(corvette.year)"
   ]
  },
  {
   "cell_type": "markdown",
   "metadata": {},
   "source": [
    "## The \\__init\\__() Method <br>\n",
    "<p>This method is used in almost every created class, and called only once upon the creation of the class instance. This method will initialize all variables needed for the object.</p>"
   ]
  },
  {
   "cell_type": "code",
   "execution_count": 15,
   "metadata": {},
   "outputs": [
    {
     "name": "stdout",
     "output_type": "stream",
     "text": [
      "silver\n",
      "4\n",
      "blue\n",
      "2\n"
     ]
    }
   ],
   "source": [
    "class Car():\n",
    "    engine = '4.7L' #Global within class - any method inside the class can call upon this variable\n",
    "        \n",
    "    def __init__(self, color, wheels, strip, doors):\n",
    "        self.color = color\n",
    "        self.wheels = wheels\n",
    "        self.strip = strip\n",
    "        self.doors = doors\n",
    "        \n",
    "corvette = Car('silver', 4, 'blue', 2)\n",
    "\n",
    "print(corvette.color)\n",
    "print(corvette.wheels)\n",
    "print(corvette.strip)\n",
    "print(corvette.doors)\n",
    "\n",
    "\n",
    "#needs __init__ and self in order to run properly (reason why headlights didn't run.)"
   ]
  },
  {
   "cell_type": "markdown",
   "metadata": {},
   "source": [
    "##### The 'self' Attribute <br>\n",
    "<p>This attribute is required to keep track of specific instance's attributes. Without the self attribute, the program would not know how to reference or keep track of an instance's attributes.</p>"
   ]
  },
  {
   "cell_type": "code",
   "execution_count": 26,
   "metadata": {},
   "outputs": [
    {
     "data": {
      "text/plain": [
       "\"why wouldn't you want power from the sun?\""
      ]
     },
     "execution_count": 26,
     "metadata": {},
     "output_type": "execute_result"
    }
   ],
   "source": [
    "# see above\n",
    "class House():\n",
    "    \n",
    "    def __init__(self, dishes, wall, panels):  #Better to put self attributes in here\n",
    "        self.dishes = dishes\n",
    "        self.wall = wall\n",
    "        self.panels = panels\n",
    "        \n",
    "    def washDishes(self):\n",
    "        if self.dishes.lower() == 'dirty':\n",
    "            return 'clean'\n",
    "        \n",
    "    def texturizedWall(self):\n",
    "        if self.wall.lower() == 'yes':\n",
    "            return 'Art is love!'\n",
    "    \n",
    "    def solarPanels(self):\n",
    "        if self.panels.lower() == 'yes':\n",
    "            return 'The power of the sun!'\n",
    "        else:\n",
    "            return \"why wouldn't you want power from the sun?\"\n",
    "        \n",
    "muffy_house = House('dirty', 'yes', 'no')\n",
    "\n",
    "# muffy_house.washDishes()\n",
    "# muffy_house.texturizedWall()\n",
    "muffy_house.solarPanels()"
   ]
  },
  {
   "cell_type": "markdown",
   "metadata": {},
   "source": [
    "## Class Attributes <br>\n",
    "<p>While variables are inside of a class, they are referred to as attributes and not variables. When someone says 'attribute' you know they're speaking about a class. Attributes can be initialized through the init method, or outside of it.</p>"
   ]
  },
  {
   "cell_type": "markdown",
   "metadata": {},
   "source": [
    "##### Initializing Attributes"
   ]
  },
  {
   "cell_type": "code",
   "execution_count": 16,
   "metadata": {},
   "outputs": [
    {
     "name": "stdout",
     "output_type": "stream",
     "text": [
      "1\n",
      "2\n",
      "2\n"
     ]
    }
   ],
   "source": [
    "# see above\n",
    "\n",
    "class Toy():\n",
    "    kind = 'dinosaur' #This is called a constant\n",
    "    \n",
    "    def __init__(self, horns, legs, wings):\n",
    "        self.horns = horns\n",
    "        self.legs = legs\n",
    "        self.wings = wings\n",
    "        \n",
    "pterodactly = Toy(1,2,2) #horns, legs, wings\n",
    "\n",
    "print(pterodactly.horns)\n",
    "print(pterodactly.legs)\n",
    "print(pterodactly.wings)"
   ]
  },
  {
   "cell_type": "markdown",
   "metadata": {},
   "source": [
    "##### Accessing Class Attributes"
   ]
  },
  {
   "cell_type": "code",
   "execution_count": null,
   "metadata": {
    "scrolled": true
   },
   "outputs": [],
   "source": [
    "# See Above"
   ]
  },
  {
   "cell_type": "markdown",
   "metadata": {},
   "source": [
    "##### Setting Defaults for Attributes"
   ]
  },
  {
   "cell_type": "code",
   "execution_count": 18,
   "metadata": {},
   "outputs": [
    {
     "name": "stdout",
     "output_type": "stream",
     "text": [
      "4\n"
     ]
    },
    {
     "data": {
      "text/plain": [
       "'Silver'"
      ]
     },
     "execution_count": 18,
     "metadata": {},
     "output_type": "execute_result"
    }
   ],
   "source": [
    "class Car():\n",
    "    engine = '4.7L'\n",
    "    \n",
    "    def __init__(self, wheels, doors, seats, strip, spoiler):\n",
    "        self.wheels = wheels\n",
    "        self.color = 'Silver'  #Default\n",
    "        self.doors = 4\n",
    "        self.seats = 6\n",
    "        self.strip = 'Yes'\n",
    "        self.spoiler = 'Yes'\n",
    "        \n",
    "corvette = Car(4)\n",
    "corvette.color # Default print/call"
   ]
  },
  {
   "cell_type": "markdown",
   "metadata": {},
   "source": [
    "##### Changing Class Attributes <br>\n",
    "<p>Keep in mind there are global class attributes and then there are attributes only available to each class instance which won't effect other classes.</p>"
   ]
  },
  {
   "cell_type": "code",
   "execution_count": 19,
   "metadata": {},
   "outputs": [
    {
     "name": "stdout",
     "output_type": "stream",
     "text": [
      "Before change: Silver\n",
      "\n",
      "After change: Black\n"
     ]
    }
   ],
   "source": [
    "jeep = Car(6)\n",
    "\n",
    "print(f'Before change: {jeep.color}')\n",
    "\n",
    "jeep.color = 'Black'\n",
    "\n",
    "print(f'\\nAfter change: {jeep.color}')"
   ]
  },
  {
   "cell_type": "code",
   "execution_count": null,
   "metadata": {},
   "outputs": [],
   "source": []
  },
  {
   "cell_type": "markdown",
   "metadata": {},
   "source": [
    "##### In-Class Exercise #2 - Add a doors and seats attribute to your 'Car' class then print out two different instances with different doors and seats"
   ]
  },
  {
   "cell_type": "code",
   "execution_count": 52,
   "metadata": {},
   "outputs": [
    {
     "name": "stdout",
     "output_type": "stream",
     "text": [
      "The cybertruck has: 2 doors, and 4 seats\n"
     ]
    }
   ],
   "source": [
    "class Car():\n",
    "    \n",
    "    def __init__(self, doors, seats = 4): #video ex; another way of settng default\n",
    "        self.doors = doors\n",
    "        self.seats = seats\n",
    "        \n",
    "cybertruck = Car(2)\n",
    "print(f'The cybertruck has: {cybertruck.doors} doors, and {cybertruck.seats} seats')\n",
    "# Or         \n",
    "# cybertruck.doors = 2\n",
    "# cybertruck.seats = 6\n",
    "# cybertruck.strip = 'No'\n",
    "# cybertruck.spoiler = 'No'\n",
    "# print(f'The cybertruck has: {cybertruck.doors} doors, {cybertruck.seats} seats, {cybertruck.strip} strips, and {cybertruck.spoiler} spoilers')\n",
    "\n",
    "# cybertruck = Car(4)\n",
    "\n",
    "# cybertruck.doors = 2\n",
    "# cybertruck.seats = 4\n",
    "# cybertruck.strip = 'No'\n",
    "# cybertruck.spoiler = 'No'\n",
    "\n",
    "# print(f'The cybertruck has: {cybertruck.doors} doors, {cybertruck.seats} seats, {cybertruck.strip} strips, and {cybertruck.spoiler} spoilers')"
   ]
  },
  {
   "cell_type": "markdown",
   "metadata": {},
   "source": [
    "## Class Methods <br>\n",
    "<p>While inside of a class, functions are referred to as 'methods'. If you hear someone mention methods, they're speaking about classes. Methods are essentially functions, but only callable on the instances of a class.</p>"
   ]
  },
  {
   "cell_type": "markdown",
   "metadata": {},
   "source": [
    "##### Creating"
   ]
  },
  {
   "cell_type": "code",
   "execution_count": 9,
   "metadata": {},
   "outputs": [],
   "source": [
    "class ShoppingBag():\n",
    "    \"\"\"\n",
    "        The ShoppingBag class will have handles, capacity,\n",
    "        and items to place inside.\n",
    "        \n",
    "        Attributes for the class:\n",
    "        - handles: expected to be an integer\n",
    "        - capacity: expected to be a string OR an integer\n",
    "        - items: expected to be a list\n",
    "    \"\"\"\n",
    "    \n",
    "    def __init__(self, handles, capacity, items):\n",
    "        self.handles = handles\n",
    "        self.capacity = capacity\n",
    "        self.items = items\n",
    "        \n",
    "    # Write a method that shows the items in our ShoppingBag / this is our items list\n",
    "    def showShoppingBag(self):\n",
    "        for item in self.items:\n",
    "            print(\"You have items in your bag! \")\n",
    "            print(item)\n",
    "    # Extra for items not in bag\n",
    "        else: \n",
    "            print(\"You have nothing in your bag.\")\n",
    "            \n",
    "    # Show the capacity of ShoppingBag - how much room is left\n",
    "    def showCapacity(self):\n",
    "        print(f\"You have room for {self.capacity - len(self.items)}\")\n",
    "                                             # Correct way ^\n",
    "    # A for effort\n",
    "#         if (self.items) > (self.capacity):\n",
    "#             print(\"You have no more room.\")\n",
    "        \n",
    "    # Add item(s) to the list for the ShoppingBag\n",
    "    def addToShoppingBag(self):\n",
    "        products = input('What would you like to add? ')\n",
    "        self.items.append(products)\n",
    "        \n",
    "    # Change the capacity of the ShoppingBag\n",
    "    def changeBagCapacity(self, capacity):\n",
    "        self.capacity = capacity\n",
    "        \n",
    "    # Increases the capacity of the ShoppingBag by a default amount that we set to 10\n",
    "    def increaseCapacity(self, changed_capacity = 10):\n",
    "        if self.capacity == isinstance(self.capacity, str):\n",
    "            print(\"We can't add that here\")\n",
    "        else:\n",
    "            self.capacity += changed_capacity"
   ]
  },
  {
   "cell_type": "markdown",
   "metadata": {},
   "source": [
    "##### Calling"
   ]
  },
  {
   "cell_type": "code",
   "execution_count": 17,
   "metadata": {},
   "outputs": [
    {
     "name": "stdout",
     "output_type": "stream",
     "text": [
      "What would to like to do? (add/show/quit): add\n",
      "What would you like to add? rice\n",
      "You have room for 9\n",
      "What would to like to do? (add/show/quit): add\n",
      "What would you like to add? onions\n",
      "You have room for 8\n",
      "What would to like to do? (add/show/quit): add\n",
      "What would you like to add? oil\n",
      "You have room for 7\n",
      "What would to like to do? (add/show/quit): add\n",
      "What would you like to add? water\n",
      "You have room for 6\n",
      "What would to like to do? (add/show/quit): add\n",
      "What would you like to add? juice\n",
      "You have room for 5\n",
      "What would to like to do? (add/show/quit): add\n",
      "What would you like to add? potatoes\n",
      "You have room for 4\n",
      "What would to like to do? (add/show/quit): add\n",
      "What would you like to add? kiwi\n",
      "You have room for 3\n",
      "What would to like to do? (add/show/quit): add\n",
      "What would you like to add? apples\n",
      "You have room for 2\n",
      "What would to like to do? (add/show/quit): add\n",
      "What would you like to add? grapes\n",
      "You have room for 1\n",
      "What would to like to do? (add/show/quit): add\n",
      "What would you like to add? oats\n",
      "You have room for 0\n",
      "What would to like to do? (add/show/quit): show\n",
      "You have items in your bag! \n",
      "rice\n",
      "You have items in your bag! \n",
      "onions\n",
      "You have items in your bag! \n",
      "oil\n",
      "You have items in your bag! \n",
      "water\n",
      "You have items in your bag! \n",
      "juice\n",
      "You have items in your bag! \n",
      "potatoes\n",
      "You have items in your bag! \n",
      "kiwi\n",
      "You have items in your bag! \n",
      "apples\n",
      "You have items in your bag! \n",
      "grapes\n",
      "You have items in your bag! \n",
      "oats\n",
      "You have nothing in your bag.\n",
      "You have room for 0\n",
      "What would to like to do? (add/show/quit): quit\n",
      "You have items in your bag! \n",
      "rice\n",
      "You have items in your bag! \n",
      "onions\n",
      "You have items in your bag! \n",
      "oil\n",
      "You have items in your bag! \n",
      "water\n",
      "You have items in your bag! \n",
      "juice\n",
      "You have items in your bag! \n",
      "potatoes\n",
      "You have items in your bag! \n",
      "kiwi\n",
      "You have items in your bag! \n",
      "apples\n",
      "You have items in your bag! \n",
      "grapes\n",
      "You have items in your bag! \n",
      "oats\n",
      "You have nothing in your bag.\n",
      "You have room for 0\n",
      "You have no more room.\n",
      "Thanks for shopping, come again!\n"
     ]
    }
   ],
   "source": [
    "# See Above\n",
    "# So far, we created the idea of the ShoppingBag; now we will instantiate, and MAKE one, and use it\n",
    "wholeFoods_bag = ShoppingBag(2,10,[])\n",
    "\n",
    "# Create a function to run and navigate the ShoppingBag methods on our wholeFoods_bag instance\n",
    "def run():\n",
    "    while True:\n",
    "        response = input(\"What would to like to do? (add/show/quit): \")\n",
    "        \n",
    "        if response.lower() == 'quit':\n",
    "            wholeFoods_bag.showShoppingBag()\n",
    "            # don't need .showCapacity()\n",
    "            wholeFoods_bag.showCapacity()\n",
    "            print('You have no more room.')\n",
    "            print(\"Thanks for shopping, come again!\")\n",
    "            break\n",
    "        elif response.lower() == 'add':\n",
    "            wholeFoods_bag.addToShoppingBag()\n",
    "            wholeFoods_bag.showCapacity()\n",
    "        elif response.lower() == 'show':\n",
    "            wholeFoods_bag.showShoppingBag()\n",
    "            wholeFoods_bag.showCapacity()\n",
    "        else:\n",
    "            print('Try another command')\n",
    "            \n",
    "run()"
   ]
  },
  {
   "cell_type": "markdown",
   "metadata": {},
   "source": [
    "##### Modifying an Attribute's Value Through a Method"
   ]
  },
  {
   "cell_type": "code",
   "execution_count": 3,
   "metadata": {},
   "outputs": [
    {
     "name": "stdout",
     "output_type": "stream",
     "text": [
      "Your capacity is: 10\n",
      "\n",
      "Capacity AFTER the change...\n",
      "Your capacity is: 40\n"
     ]
    }
   ],
   "source": [
    "#Show the capacity\n",
    "wholeFoods_bag.showCapacity()\n",
    "print(f'\\nCapacity AFTER the change...')\n",
    "wholeFoods_bag.changeBagCapacity(40)\n",
    "wholeFoods_bag.showCapacity()"
   ]
  },
  {
   "cell_type": "markdown",
   "metadata": {},
   "source": [
    "##### Incrementing an Attribute's Value Through a Method"
   ]
  },
  {
   "cell_type": "code",
   "execution_count": 4,
   "metadata": {},
   "outputs": [
    {
     "name": "stdout",
     "output_type": "stream",
     "text": [
      "Your capacity is: 40\n",
      "\n",
      "After increase:\n",
      "Your capacity is: 50\n"
     ]
    }
   ],
   "source": [
    "wholeFoods_bag.showCapacity()\n",
    "print('\\nAfter increase:')\n",
    "wholeFoods_bag.increaseCapacity()\n",
    "wholeFoods_bag.showCapacity()"
   ]
  },
  {
   "cell_type": "markdown",
   "metadata": {},
   "source": [
    "##### In-Class Exercise #3 - Add a method that takes in three parameters of year, doors and seats and prints out a formatted print statement with make, model, year, seats, and doors"
   ]
  },
  {
   "cell_type": "code",
   "execution_count": 28,
   "metadata": {},
   "outputs": [
    {
     "name": "stdout",
     "output_type": "stream",
     "text": [
      "Let's play a game. add/show/quit: add\n",
      "What year is your car?: 2025\n",
      "How many doors does your car have? 4\n",
      "How many seats does your car have in it? 4\n",
      "Let's play a game. add/show/quit: show\n",
      "This car is from 2025 and is a Chevrolet Corvette and has 4 doors and 4 seats\n",
      "Let's play a game. add/show/quit: quit\n",
      "Thanks for playing\n"
     ]
    }
   ],
   "source": [
    "# Create class with 2 parameters inside of the __init__ which are make and model\n",
    "\n",
    "# Inside of the Car class create a method that has 4 parameter in total (self,year,door,seats)\n",
    "\n",
    "# Output: This car is from 2019 and is a Ford Explorer and has 4 doors and 5 seats\n",
    "\n",
    "class Car():\n",
    "    \n",
    "    def __init__(self, make, model):\n",
    "        self.make = make\n",
    "        self.model = model\n",
    "        self.year = None  # Initialize these attributes to store car details\n",
    "        self.doors = None\n",
    "        self.seats = None\n",
    "    def makeCar(self, year, doors, seats):\n",
    "        self.year = year\n",
    "        self.doors = doors\n",
    "        self.seats = seats\n",
    "        # This method now also updates the car's details\n",
    "    def showCarDetails(self):\n",
    "        # Check if the car details are set before trying to print them\n",
    "        if self.year and self.doors and self.seats:\n",
    "            print(f'This car is from {self.year} and is a {self.make} {self.model} and has {self.doors} doors and {self.seats} seats')\n",
    "        else:\n",
    "            print(\"Car details are incomplete.\")\n",
    "    def addYearCar(self):\n",
    "        year = input(\"What year is your car?: \")\n",
    "        self.year = year\n",
    "    def addDoorsCar(self):\n",
    "        doors = input(\"How many doors does your car have? \")\n",
    "        self.doors = doors\n",
    "    def addSeatsCar(self):\n",
    "        seats = input(\"How many seats does your car have in it? \")\n",
    "        self.seats = seats\n",
    "        \n",
    "        \n",
    "def run():\n",
    "    car_make_model = Car('Chevrolet', 'Corvette')\n",
    "    while True:\n",
    "        response = input(\"Let's play a game. add/show/quit: \")\n",
    "        if response.lower() == 'quit':\n",
    "            print('Thanks for playing')\n",
    "            break\n",
    "        elif response.lower() == 'add':\n",
    "            car_make_model.addYearCar()\n",
    "            car_make_model.addDoorsCar()\n",
    "            car_make_model.addSeatsCar()\n",
    "        elif response.lower() == 'show':\n",
    "            car_make_model.showCarDetails()\n",
    "        else:\n",
    "            print(\"A for effort\")\n",
    "run()"
   ]
  },
  {
   "cell_type": "markdown",
   "metadata": {},
   "source": [
    "## Inheritance <br>\n",
    "<p>You can create a child-parent relationship between two classes by using inheritance. What this allows you to do is have overriding methods, but also inherit traits from the parent class. Think of it as an actual parent and child, the child will inherit the parent's genes, as will the classes in OOP</p>"
   ]
  },
  {
   "cell_type": "markdown",
   "metadata": {},
   "source": [
    "##### Syntax for Inheriting from a Parent Class"
   ]
  },
  {
   "cell_type": "code",
   "execution_count": 42,
   "metadata": {},
   "outputs": [
    {
     "name": "stdout",
     "output_type": "stream",
     "text": [
      "Bark\n",
      "Make some generic sound\n",
      "None\n",
      "15\n",
      "9.8\n",
      "9.8\n",
      "Brown\n",
      "Mut\n",
      "Spade\n"
     ]
    }
   ],
   "source": [
    "# Create a parent class and call it Animal\n",
    "class Animal():\n",
    "    accerlation = 9.8\n",
    "    \n",
    "    def __init__(self, name, species, legs = 4):\n",
    "        self.name = name\n",
    "        self.species = species\n",
    "        self.legs = legs\n",
    "        \n",
    "    # Generic Parent Method - This is not overriding anything\n",
    "    def makeSound(self):\n",
    "        print('Make some generic sound')\n",
    "        \n",
    "# Now we are making our child class... Dog\n",
    "class Dog(Animal):\n",
    "    speed = 15\n",
    "    \n",
    "    def printInfo(self):\n",
    "        print(f'The Dog has {self.speed}mph in speed and {self.acceleration}')\n",
    "        \n",
    "# Creation of our Grand-Child Class -- Mutt\n",
    "class Mutt(Dog):\n",
    "    color = \"Tan\"\n",
    "    \n",
    "    # Override the ANIMAL class - using the Dog class to overwrite the __init__ from Animal\n",
    "    def __init__(self, name, species, eye_color, legs = 4):\n",
    "        Dog.__init__(self, name, species, legs)\n",
    "        self.eye_color = eye_color\n",
    "        \n",
    "    # Override the makeSound method (which is coming from... ANIMAL)\n",
    "    def makeSound(self):\n",
    "        noise = 'Bark'\n",
    "        return noise\n",
    "    \n",
    "blue = Dog('Blue', 'Dog')\n",
    "basic_animal = Animal('Generic Animal Name', 'Generic Animal Species')\n",
    "spade = Mutt('Spade', 'Mut', 'Brown')\n",
    "\n",
    "print(spade.makeSound())\n",
    "print(blue.makeSound())\n",
    "print(spade.speed)\n",
    "print(blue.accerlation)\n",
    "print(spade.accerlation)\n",
    "print(spade.eye_color)\n",
    "print(spade.species)\n",
    "print(spade.name)"
   ]
  },
  {
   "cell_type": "markdown",
   "metadata": {},
   "source": [
    "##### The \\__init\\__() Method for a Child Class - super()"
   ]
  },
  {
   "cell_type": "code",
   "execution_count": 43,
   "metadata": {
    "scrolled": true
   },
   "outputs": [
    {
     "name": "stdout",
     "output_type": "stream",
     "text": [
      "Bark\n",
      "Make some generic sound\n",
      "None\n",
      "15\n",
      "9.8\n",
      "9.8\n",
      "Brown\n",
      "Mut\n",
      "Spade\n"
     ]
    }
   ],
   "source": [
    "# Super goes all the way to the top\n",
    "class Puppy(Dog):\n",
    "    color = 'black and brown'\n",
    "    \n",
    "    # Override the Animal class __init__ (via Dog class)\n",
    "    def __init__(self, name, species, eye_color, legs = 4):\n",
    "        super().__init__(name, species, legs)\n",
    "        self.eye_color = eye_color\n",
    "        \n",
    "    # Override the makeSound method\n",
    "    def makeSound(self):\n",
    "        noise = 'Bark'\n",
    "        return noise\n",
    "    \n",
    "blue = Dog('Blue', 'Dog')\n",
    "basic_animal = Animal('Generic Animal Name', 'Generic Animal Species')\n",
    "spade = Mutt('Spade', 'Mut', 'Brown')\n",
    "\n",
    "print(spade.makeSound())\n",
    "print(blue.makeSound())\n",
    "print(spade.speed)\n",
    "print(blue.accerlation)\n",
    "print(spade.accerlation)\n",
    "print(spade.eye_color)\n",
    "print(spade.species)\n",
    "print(spade.name)"
   ]
  },
  {
   "cell_type": "markdown",
   "metadata": {},
   "source": [
    "##### Defining Attributes and Methods for the Child Class"
   ]
  },
  {
   "cell_type": "code",
   "execution_count": null,
   "metadata": {},
   "outputs": [],
   "source": [
    "# See Above"
   ]
  },
  {
   "cell_type": "markdown",
   "metadata": {},
   "source": [
    "##### Method Overriding"
   ]
  },
  {
   "cell_type": "code",
   "execution_count": null,
   "metadata": {},
   "outputs": [],
   "source": [
    "# See Above"
   ]
  },
  {
   "cell_type": "markdown",
   "metadata": {},
   "source": [
    "## Classes as Attributes <br>\n",
    "<p>Classes can also be used as attributes within another class. This is useful in situations where you need to keep variables locally stored, instead of globally stored.</p>"
   ]
  },
  {
   "cell_type": "code",
   "execution_count": 44,
   "metadata": {},
   "outputs": [
    {
     "name": "stdout",
     "output_type": "stream",
     "text": [
      "20\n"
     ]
    },
    {
     "data": {
      "text/plain": [
       "'2019 Tesla Model X 20'"
      ]
     },
     "execution_count": 44,
     "metadata": {},
     "output_type": "execute_result"
    }
   ],
   "source": [
    "class Battery():\n",
    "    volts = 7.8\n",
    "    \n",
    "    def __init__(self, cells):\n",
    "        self.cells = cells\n",
    "        \n",
    "class Car():\n",
    "    def __init__(self, year, make, model, battery):\n",
    "        self.year = year\n",
    "        self.make = make\n",
    "        self.model = model\n",
    "        self.battery = battery\n",
    "        \n",
    "    def printInfo(self):\n",
    "        return f'{self.year} {self.make} {self.model} {self.battery.cells}'\n",
    "\n",
    "my_battery = Battery(20)\n",
    "\n",
    "tesla = Car(2019, 'Tesla', 'Model X', my_battery)\n",
    "\n",
    "print(tesla.battery.cells)\n",
    "tesla.printInfo()"
   ]
  },
  {
   "cell_type": "markdown",
   "metadata": {},
   "source": [
    "# Exercises"
   ]
  },
  {
   "cell_type": "markdown",
   "metadata": {},
   "source": [
    "### Exercise 1 - Turn the shopping cart program from yesterday into an object-oriented program\n",
    "\n",
    "The comments in the cell below are there as a guide for thinking about the problem. However, if you feel a different way is best for you and your own thought process, please do what feels best for you by all means."
   ]
  },
  {
   "cell_type": "code",
   "execution_count": 16,
   "metadata": {},
   "outputs": [
    {
     "name": "stdout",
     "output_type": "stream",
     "text": [
      "The basket has 2 handles and can carry 10 items\n",
      "Do you want to: (add/remove/show/quit)?: add\n",
      "Enter a item: rice\n",
      "You have room for 9\n",
      "Do you want to: (add/remove/show/quit)?: add\n",
      "Enter a item: water\n",
      "You have room for 8\n",
      "Do you want to: (add/remove/show/quit)?: add\n",
      "Enter a item: juice\n",
      "You have room for 7\n",
      "Do you want to: (add/remove/show/quit)?: add\n",
      "Enter a item: oats\n",
      "You have room for 6\n",
      "Do you want to: (add/remove/show/quit)?: add\n",
      "Enter a item: greens\n",
      "You have room for 5\n",
      "Do you want to: (add/remove/show/quit)?: show\n",
      "------Cart-------\n",
      "rice\n",
      "water\n",
      "juice\n",
      "oats\n",
      "greens\n",
      "Thanks for shopping\n",
      "Do you want to: (add/remove/show/quit)?: add\n",
      "Enter a item: onions\n",
      "You have room for 4\n",
      "Do you want to: (add/remove/show/quit)?: i\n",
      "Choose another option\n",
      "Do you want to: (add/remove/show/quit)?: quit\n",
      "------Cart-------\n",
      "rice\n",
      "water\n",
      "juice\n",
      "oats\n",
      "greens\n",
      "onions\n"
     ]
    }
   ],
   "source": [
    "# Create a class called cart that retains items and has methods to add, remove, and show\n",
    "\n",
    "class ShoppingCart():\n",
    "    capacity = 10\n",
    "    \n",
    "    def __init__(self,items=[], changed_capacity = 10): \n",
    "        self.items = items\n",
    "        self.changed_capacity = changed_capacity\n",
    "        \n",
    "    def add_item(self):\n",
    "        item = input(\"Enter a item: \")\n",
    "        self.items.append(item)\n",
    "        print(f\"You have room for {self.capacity - len(self.items)}\")\n",
    "        \n",
    "    def remove_item(self):\n",
    "        item= input(\"Remove a item: \")\n",
    "        if item in self.items:\n",
    "            self.items.remove(item)\n",
    "        else:\n",
    "            print(\"Let's go\")\n",
    "            \n",
    "    def checkout(self):\n",
    "        print(\"------Cart-------\")\n",
    "        for item in self.items:\n",
    "            print(item)\n",
    "    \n",
    "my_cart = ShoppingCart()\n",
    "class Basket(ShoppingCart):\n",
    "    handles = 2\n",
    "    \n",
    "    def __init__(self):\n",
    "        super().__init__(self)\n",
    "\n",
    "    def printInfo(self):\n",
    "        print(f'The basket has {self.handles} handles and can carry {self.capacity} items')\n",
    "        \n",
    "    def increaseCapacity(ShoppingCart):\n",
    "        if capacity == isinstance(self.capacity, str):\n",
    "            print(\"We can't add that here\")\n",
    "        else:\n",
    "            self.capacity += changed_capacity\n",
    "            print(f\"You have room for {i.changed_capacity}\")\n",
    "       \n",
    "    \n",
    "basic_Cart = Basket()\n",
    "print(f'The basket has {basic_Cart.handles} handles and can carry {basic_Cart.capacity} items')\n",
    "\n",
    "\n",
    "def Shop():\n",
    "    while True:\n",
    "        i= input(\"Do you want to: (add/remove/show/quit)?: \")\n",
    "        if i.lower() == 'add':\n",
    "            my_cart.add_item()\n",
    "        elif i.lower() == 'remove':\n",
    "            my_cart.remove_item()\n",
    "        elif i.lower() == 'show':\n",
    "            my_cart.checkout()\n",
    "            print('Thanks for shopping')\n",
    "        elif i.lower() == 'quit':\n",
    "            my_cart.checkout()\n",
    "            break\n",
    "        else:\n",
    "            print('Choose another option')\n",
    "Shop()            \n",
    "\n",
    "                        "
   ]
  },
  {
   "cell_type": "markdown",
   "metadata": {},
   "source": [
    "### Exercise 2 - Write a Python class which has two methods get_String and print_String. get_String accept a string from the user and print_String print the string in upper case"
   ]
  },
  {
   "cell_type": "code",
   "execution_count": 4,
   "metadata": {},
   "outputs": [
    {
     "name": "stdout",
     "output_type": "stream",
     "text": [
      "Enter how you feel: not too bad\n"
     ]
    },
    {
     "data": {
      "text/plain": [
       "'NOT TOO BAD'"
      ]
     },
     "execution_count": 4,
     "metadata": {},
     "output_type": "execute_result"
    }
   ],
   "source": [
    "class get_String():\n",
    "    def __init__(self, string): \n",
    "        self.string = string\n",
    "        gg = input('Enter how you feel: ')\n",
    "    \n",
    "#     def printString(self):\n",
    "#         if gg.lower():\n",
    "#             return gg.upper()\n",
    "        \n",
    "def printString():\n",
    "    while True:\n",
    "        ggs = input('Enter how you feel: ')\n",
    "        if ggs.lower():\n",
    "            return ggs.upper()\n",
    "        \n",
    "        \n",
    "printString()"
   ]
  },
  {
   "cell_type": "code",
   "execution_count": null,
   "metadata": {},
   "outputs": [],
   "source": []
  }
 ],
 "metadata": {
  "kernelspec": {
   "display_name": "Python 3 (ipykernel)",
   "language": "python",
   "name": "python3"
  },
  "language_info": {
   "codemirror_mode": {
    "name": "ipython",
    "version": 3
   },
   "file_extension": ".py",
   "mimetype": "text/x-python",
   "name": "python",
   "nbconvert_exporter": "python",
   "pygments_lexer": "ipython3",
   "version": "3.11.5"
  }
 },
 "nbformat": 4,
 "nbformat_minor": 2
}
